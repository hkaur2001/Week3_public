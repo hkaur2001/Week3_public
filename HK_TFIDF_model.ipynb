{
  "nbformat": 4,
  "nbformat_minor": 0,
  "metadata": {
    "colab": {
      "name": "TFIDF model",
      "version": "0.3.2",
      "provenance": [],
      "include_colab_link": true
    }
  },
  "cells": [
    {
      "cell_type": "markdown",
      "metadata": {
        "id": "view-in-github",
        "colab_type": "text"
      },
      "source": [
        "[View in Colaboratory](https://colab.research.google.com/github/hkaur2001/Week3_public/blob/master/HK_TFIDF_model.ipynb)"
      ]
    },
    {
      "metadata": {
        "id": "RVAbjGqqx9pp",
        "colab_type": "text"
      },
      "cell_type": "markdown",
      "source": [
        "### **Imports**"
      ]
    },
    {
      "metadata": {
        "id": "Baqy7g3VxT5t",
        "colab_type": "code",
        "colab": {}
      },
      "cell_type": "code",
      "source": [
        "import sys\n",
        "from sklearn.datasets import load_files\n",
        "from sklearn.model_selection import train_test_split\n",
        "from sklearn import metrics\n",
        "from sklearn.pipeline import Pipeline\n",
        "from sklearn.svm import LinearSVC\n",
        "from sklearn.naive_bayes import MultinomialNB\n",
        "from sklearn.feature_extraction.text import CountVectorizer\n",
        "from sklearn.feature_extraction.text import TfidfVectorizer\n",
        "import numpy as np\n",
        "import pandas as pd"
      ],
      "execution_count": 0,
      "outputs": []
    },
    {
      "metadata": {
        "id": "HhN6DFBLyGBh",
        "colab_type": "code",
        "colab": {
          "base_uri": "https://localhost:8080/",
          "height": 247
        },
        "outputId": "6a1596f9-99e1-4d04-aa4c-87ef9d5c0f29"
      },
      "cell_type": "code",
      "source": [
        "! pip install PyDrive"
      ],
      "execution_count": 2,
      "outputs": [
        {
          "output_type": "stream",
          "text": [
            "Collecting PyDrive\n",
            "  Downloading https://files.pythonhosted.org/packages/6b/2d/c8e052ba51099faee0bfe71d84f35bb1576e6910483cad46b840a122ca6c/PyDrive-1.3.1-py2-none-any.whl\n",
            "Requirement already satisfied: PyYAML>=3.0 in /usr/local/lib/python2.7/dist-packages (from PyDrive) (3.13)\n",
            "Requirement already satisfied: oauth2client>=4.0.0 in /usr/local/lib/python2.7/dist-packages (from PyDrive) (4.1.2)\n",
            "Requirement already satisfied: google-api-python-client>=1.2 in /usr/local/lib/python2.7/dist-packages (from PyDrive) (1.6.7)\n",
            "Requirement already satisfied: httplib2>=0.9.1 in /usr/local/lib/python2.7/dist-packages (from oauth2client>=4.0.0->PyDrive) (0.11.3)\n",
            "Requirement already satisfied: rsa>=3.1.4 in /usr/local/lib/python2.7/dist-packages (from oauth2client>=4.0.0->PyDrive) (3.4.2)\n",
            "Requirement already satisfied: pyasn1>=0.1.7 in /usr/local/lib/python2.7/dist-packages (from oauth2client>=4.0.0->PyDrive) (0.4.4)\n",
            "Requirement already satisfied: pyasn1-modules>=0.0.5 in /usr/local/lib/python2.7/dist-packages (from oauth2client>=4.0.0->PyDrive) (0.2.2)\n",
            "Requirement already satisfied: six>=1.6.1 in /usr/local/lib/python2.7/dist-packages (from oauth2client>=4.0.0->PyDrive) (1.11.0)\n",
            "Requirement already satisfied: uritemplate<4dev,>=3.0.0 in /usr/local/lib/python2.7/dist-packages (from google-api-python-client>=1.2->PyDrive) (3.0.0)\n",
            "Installing collected packages: PyDrive\n",
            "Successfully installed PyDrive-1.3.1\n"
          ],
          "name": "stdout"
        }
      ]
    },
    {
      "metadata": {
        "id": "0LhM1ZjhyGV_",
        "colab_type": "text"
      },
      "cell_type": "markdown",
      "source": [
        "### **Loading the data**"
      ]
    },
    {
      "metadata": {
        "id": "_mMtIiDyy-w2",
        "colab_type": "code",
        "colab": {}
      },
      "cell_type": "code",
      "source": [
        "### authentication -- run once \n",
        "from pydrive.auth import GoogleAuth\n",
        "from pydrive.drive import GoogleDrive\n",
        "from google.colab import auth\n",
        "from oauth2client.client import GoogleCredentials\n",
        " \n",
        "# 1. Authenticate and create the PyDrive client.\n",
        "auth.authenticate_user()\n",
        "gauth = GoogleAuth()\n",
        "gauth.credentials = GoogleCredentials.get_application_default()\n",
        "drive = GoogleDrive(gauth)"
      ],
      "execution_count": 0,
      "outputs": []
    },
    {
      "metadata": {
        "id": "Eq-O0OlYzLEk",
        "colab_type": "code",
        "colab": {
          "base_uri": "https://localhost:8080/",
          "height": 141
        },
        "outputId": "887a3868-8b41-4860-825e-262313c6affc"
      },
      "cell_type": "code",
      "source": [
        "### lists the files in the folder \n",
        "file_list = drive.ListFile({'q': \"'18sX8Dymv_AAEaY7mJxbmh_LjljD8oRwK' in parents and trashed=false\"}).GetList() ## long string in the url of folder\n",
        "for file1 in file_list:\n",
        "  print('title: %s, id: %s' % (file1['title'], file1['id']))"
      ],
      "execution_count": 5,
      "outputs": [
        {
          "output_type": "stream",
          "text": [
            "title: data_tweet_clean_500_1.csv, id: 1GYKiwwT9vk2msc53mSAUchmb37nTDdJP\n",
            "title: data_tweet_clean_500_1, id: 1NpwnlyjqIPfaP17zsFjlrApdR18KdUbQNnFaDfambGs\n",
            "title: data_tweet_clean_500_1, id: 1uMqBX5G--17uD-lUfvjz87202vNvyhQM3chdrAP0Lgw\n",
            "title: Data Cleaning, id: 1JsVnP9kago0ipdSqtX7txLQWMTwSPZ3X\n",
            "title: data_Tweet_clean.csv, id: 1FNa4-dHR6aEeunRIwMnaBBacSlCHZOsW\n",
            "title: Medication_1, id: 1yvcgD5F6on7s9gwS56GWajZNPtvYg_4H\n",
            "title: Twitter_Neg_Pos, id: 1-SvbE_55FqDfqtp588p3HvcojmREUOWc\n"
          ],
          "name": "stdout"
        }
      ]
    },
    {
      "metadata": {
        "id": "UQmSixFVzYCU",
        "colab_type": "code",
        "colab": {
          "base_uri": "https://localhost:8080/",
          "height": 497
        },
        "outputId": "4d522f3f-3fbe-402f-8624-d917fc1a8a3f"
      },
      "cell_type": "code",
      "source": [
        "### download the file \n",
        "file_downloaded = drive.CreateFile({'id': '1VjuYqkkFSILqW2SXvpJo5Ofgyd9ks9OY'})\n",
        "file_downloaded.GetContentFile('data_tweet_clean_500_1.csv')\n",
        "\n",
        "df_data = pd.read_csv('data_tweet_clean_500_1.csv', dtype = object)\n",
        "df_data.head(15)"
      ],
      "execution_count": 6,
      "outputs": [
        {
          "output_type": "execute_result",
          "data": {
            "text/html": [
              "<div>\n",
              "<style scoped>\n",
              "    .dataframe tbody tr th:only-of-type {\n",
              "        vertical-align: middle;\n",
              "    }\n",
              "\n",
              "    .dataframe tbody tr th {\n",
              "        vertical-align: top;\n",
              "    }\n",
              "\n",
              "    .dataframe thead th {\n",
              "        text-align: right;\n",
              "    }\n",
              "</style>\n",
              "<table border=\"1\" class=\"dataframe\">\n",
              "  <thead>\n",
              "    <tr style=\"text-align: right;\">\n",
              "      <th></th>\n",
              "      <th>Unnamed: 0</th>\n",
              "      <th>Tweet ID</th>\n",
              "      <th>User ID</th>\n",
              "      <th>Bullying_Traces?</th>\n",
              "      <th>Type</th>\n",
              "      <th>Form</th>\n",
              "      <th>Teasing?</th>\n",
              "      <th>Author_Role</th>\n",
              "      <th>Emotion</th>\n",
              "      <th>0</th>\n",
              "    </tr>\n",
              "  </thead>\n",
              "  <tbody>\n",
              "    <tr>\n",
              "      <th>0</th>\n",
              "      <td>0</td>\n",
              "      <td>107688644067856384</td>\n",
              "      <td>185389094</td>\n",
              "      <td>y</td>\n",
              "      <td>self-disclosure</td>\n",
              "      <td>other</td>\n",
              "      <td>n</td>\n",
              "      <td>defender</td>\n",
              "      <td>empathy</td>\n",
              "      <td>b'@bellathorne143 i herd that you got bullied ...</td>\n",
              "    </tr>\n",
              "    <tr>\n",
              "      <th>1</th>\n",
              "      <td>1</td>\n",
              "      <td>102206417217392640</td>\n",
              "      <td>226320672</td>\n",
              "      <td>n</td>\n",
              "      <td>NaN</td>\n",
              "      <td>NaN</td>\n",
              "      <td>NaN</td>\n",
              "      <td>NaN</td>\n",
              "      <td>NaN</td>\n",
              "      <td>b'Bullying: O gesto mais idiota, estpido e irr...</td>\n",
              "    </tr>\n",
              "    <tr>\n",
              "      <th>2</th>\n",
              "      <td>2</td>\n",
              "      <td>102779484725448704</td>\n",
              "      <td>297557032</td>\n",
              "      <td>n</td>\n",
              "      <td>NaN</td>\n",
              "      <td>NaN</td>\n",
              "      <td>NaN</td>\n",
              "      <td>NaN</td>\n",
              "      <td>NaN</td>\n",
              "      <td>b'The Bully at School Goes High Tech  Part 1: ...</td>\n",
              "    </tr>\n",
              "    <tr>\n",
              "      <th>3</th>\n",
              "      <td>3</td>\n",
              "      <td>108676972149874688</td>\n",
              "      <td>157724561</td>\n",
              "      <td>n</td>\n",
              "      <td>NaN</td>\n",
              "      <td>NaN</td>\n",
              "      <td>NaN</td>\n",
              "      <td>NaN</td>\n",
              "      <td>NaN</td>\n",
              "      <td>b'Esse @Felipemath  fazendo bullying comigo! H...</td>\n",
              "    </tr>\n",
              "    <tr>\n",
              "      <th>4</th>\n",
              "      <td>4</td>\n",
              "      <td>106590106873372672</td>\n",
              "      <td>62179998</td>\n",
              "      <td>n</td>\n",
              "      <td>NaN</td>\n",
              "      <td>NaN</td>\n",
              "      <td>NaN</td>\n",
              "      <td>NaN</td>\n",
              "      <td>NaN</td>\n",
              "      <td>b'AUISHUAHS eu e o @wallace_mancha tiramos o d...</td>\n",
              "    </tr>\n",
              "    <tr>\n",
              "      <th>5</th>\n",
              "      <td>5</td>\n",
              "      <td>109034091743154176</td>\n",
              "      <td>177913822</td>\n",
              "      <td>n</td>\n",
              "      <td>NaN</td>\n",
              "      <td>NaN</td>\n",
              "      <td>NaN</td>\n",
              "      <td>NaN</td>\n",
              "      <td>NaN</td>\n",
              "      <td>b'@Looweihao @haoyangg @sleepybed Hello, since...</td>\n",
              "    </tr>\n",
              "    <tr>\n",
              "      <th>6</th>\n",
              "      <td>6</td>\n",
              "      <td>102533497637437441</td>\n",
              "      <td>70412906</td>\n",
              "      <td>y</td>\n",
              "      <td>report</td>\n",
              "      <td>other</td>\n",
              "      <td>n</td>\n",
              "      <td>reporter</td>\n",
              "      <td>none</td>\n",
              "      <td>b'For those keeping score at home- cousin who ...</td>\n",
              "    </tr>\n",
              "    <tr>\n",
              "      <th>7</th>\n",
              "      <td>8</td>\n",
              "      <td>103679008855691264</td>\n",
              "      <td>11363462</td>\n",
              "      <td>n</td>\n",
              "      <td>NaN</td>\n",
              "      <td>NaN</td>\n",
              "      <td>NaN</td>\n",
              "      <td>NaN</td>\n",
              "      <td>NaN</td>\n",
              "      <td>b\"BETTER ANTI-BULLYING AD SLOGANS: Hey, Bullie...</td>\n",
              "    </tr>\n",
              "    <tr>\n",
              "      <th>8</th>\n",
              "      <td>9</td>\n",
              "      <td>105202476927549441</td>\n",
              "      <td>293593896</td>\n",
              "      <td>n</td>\n",
              "      <td>NaN</td>\n",
              "      <td>NaN</td>\n",
              "      <td>NaN</td>\n",
              "      <td>NaN</td>\n",
              "      <td>NaN</td>\n",
              "      <td>b'@luttylutz bahh lo kaga demen dia juga? Gue ...</td>\n",
              "    </tr>\n",
              "    <tr>\n",
              "      <th>9</th>\n",
              "      <td>10</td>\n",
              "      <td>107278521805713408</td>\n",
              "      <td>150964152</td>\n",
              "      <td>n</td>\n",
              "      <td>NaN</td>\n",
              "      <td>NaN</td>\n",
              "      <td>NaN</td>\n",
              "      <td>NaN</td>\n",
              "      <td>NaN</td>\n",
              "      <td>b'cara3: bully iam gara2 uda di ucpin tpi gk bls'</td>\n",
              "    </tr>\n",
              "    <tr>\n",
              "      <th>10</th>\n",
              "      <td>11</td>\n",
              "      <td>107478741424414720</td>\n",
              "      <td>360086723</td>\n",
              "      <td>n</td>\n",
              "      <td>NaN</td>\n",
              "      <td>NaN</td>\n",
              "      <td>NaN</td>\n",
              "      <td>NaN</td>\n",
              "      <td>NaN</td>\n",
              "      <td>b'http://t.co/nbBZDxf Please help to stop work...</td>\n",
              "    </tr>\n",
              "    <tr>\n",
              "      <th>11</th>\n",
              "      <td>12</td>\n",
              "      <td>103471384973418497</td>\n",
              "      <td>219025244</td>\n",
              "      <td>n</td>\n",
              "      <td>NaN</td>\n",
              "      <td>NaN</td>\n",
              "      <td>NaN</td>\n",
              "      <td>NaN</td>\n",
              "      <td>NaN</td>\n",
              "      <td>b\"@lucy_robbo yes on thur, she said she might,...</td>\n",
              "    </tr>\n",
              "    <tr>\n",
              "      <th>12</th>\n",
              "      <td>13</td>\n",
              "      <td>106840582453870592</td>\n",
              "      <td>244569315</td>\n",
              "      <td>n</td>\n",
              "      <td>NaN</td>\n",
              "      <td>NaN</td>\n",
              "      <td>NaN</td>\n",
              "      <td>NaN</td>\n",
              "      <td>NaN</td>\n",
              "      <td>b'@bbuk @brianofficial bobby needs threw out t...</td>\n",
              "    </tr>\n",
              "    <tr>\n",
              "      <th>13</th>\n",
              "      <td>14</td>\n",
              "      <td>101324602789208064</td>\n",
              "      <td>210803457</td>\n",
              "      <td>y</td>\n",
              "      <td>report</td>\n",
              "      <td>other</td>\n",
              "      <td>n</td>\n",
              "      <td>reporter</td>\n",
              "      <td>none</td>\n",
              "      <td>b\"don't you get it? This is me getting rid of ...</td>\n",
              "    </tr>\n",
              "    <tr>\n",
              "      <th>14</th>\n",
              "      <td>15</td>\n",
              "      <td>105799405784936448</td>\n",
              "      <td>264606687</td>\n",
              "      <td>n</td>\n",
              "      <td>NaN</td>\n",
              "      <td>NaN</td>\n",
              "      <td>NaN</td>\n",
              "      <td>NaN</td>\n",
              "      <td>NaN</td>\n",
              "      <td>b'No  bullying se eu jogar um tijolo na sua ca...</td>\n",
              "    </tr>\n",
              "  </tbody>\n",
              "</table>\n",
              "</div>"
            ],
            "text/plain": [
              "   Unnamed: 0            Tweet ID    User ID Bullying_Traces?  \\\n",
              "0           0  107688644067856384  185389094                y   \n",
              "1           1  102206417217392640  226320672                n   \n",
              "2           2  102779484725448704  297557032                n   \n",
              "3           3  108676972149874688  157724561                n   \n",
              "4           4  106590106873372672   62179998                n   \n",
              "5           5  109034091743154176  177913822                n   \n",
              "6           6  102533497637437441   70412906                y   \n",
              "7           8  103679008855691264   11363462                n   \n",
              "8           9  105202476927549441  293593896                n   \n",
              "9          10  107278521805713408  150964152                n   \n",
              "10         11  107478741424414720  360086723                n   \n",
              "11         12  103471384973418497  219025244                n   \n",
              "12         13  106840582453870592  244569315                n   \n",
              "13         14  101324602789208064  210803457                y   \n",
              "14         15  105799405784936448  264606687                n   \n",
              "\n",
              "               Type   Form Teasing? Author_Role  Emotion  \\\n",
              "0   self-disclosure  other        n    defender  empathy   \n",
              "1               NaN    NaN      NaN         NaN      NaN   \n",
              "2               NaN    NaN      NaN         NaN      NaN   \n",
              "3               NaN    NaN      NaN         NaN      NaN   \n",
              "4               NaN    NaN      NaN         NaN      NaN   \n",
              "5               NaN    NaN      NaN         NaN      NaN   \n",
              "6            report  other        n    reporter     none   \n",
              "7               NaN    NaN      NaN         NaN      NaN   \n",
              "8               NaN    NaN      NaN         NaN      NaN   \n",
              "9               NaN    NaN      NaN         NaN      NaN   \n",
              "10              NaN    NaN      NaN         NaN      NaN   \n",
              "11              NaN    NaN      NaN         NaN      NaN   \n",
              "12              NaN    NaN      NaN         NaN      NaN   \n",
              "13           report  other        n    reporter     none   \n",
              "14              NaN    NaN      NaN         NaN      NaN   \n",
              "\n",
              "                                                    0  \n",
              "0   b'@bellathorne143 i herd that you got bullied ...  \n",
              "1   b'Bullying: O gesto mais idiota, estpido e irr...  \n",
              "2   b'The Bully at School Goes High Tech  Part 1: ...  \n",
              "3   b'Esse @Felipemath  fazendo bullying comigo! H...  \n",
              "4   b'AUISHUAHS eu e o @wallace_mancha tiramos o d...  \n",
              "5   b'@Looweihao @haoyangg @sleepybed Hello, since...  \n",
              "6   b'For those keeping score at home- cousin who ...  \n",
              "7   b\"BETTER ANTI-BULLYING AD SLOGANS: Hey, Bullie...  \n",
              "8   b'@luttylutz bahh lo kaga demen dia juga? Gue ...  \n",
              "9   b'cara3: bully iam gara2 uda di ucpin tpi gk bls'  \n",
              "10  b'http://t.co/nbBZDxf Please help to stop work...  \n",
              "11  b\"@lucy_robbo yes on thur, she said she might,...  \n",
              "12  b'@bbuk @brianofficial bobby needs threw out t...  \n",
              "13  b\"don't you get it? This is me getting rid of ...  \n",
              "14  b'No  bullying se eu jogar um tijolo na sua ca...  "
            ]
          },
          "metadata": {
            "tags": []
          },
          "execution_count": 6
        }
      ]
    },
    {
      "metadata": {
        "id": "4A0yM6zR0S8U",
        "colab_type": "text"
      },
      "cell_type": "markdown",
      "source": [
        "### **Formatting the Data**"
      ]
    },
    {
      "metadata": {
        "id": "zTEGejhO0Wky",
        "colab_type": "code",
        "colab": {
          "base_uri": "https://localhost:8080/",
          "height": 197
        },
        "outputId": "40c2630c-bc80-477a-ffee-d6e87fa84073"
      },
      "cell_type": "code",
      "source": [
        "def format_class_labels(df):\n",
        "    \n",
        "    import re \n",
        "    \n",
        "    # regex the weird class labels out\n",
        "    regex_pattern = ( \"\\.\\|\\d+\")\n",
        "\n",
        "    for index, row in df.iterrows():\n",
        "\n",
        "        # substitute instances of our regex_pattern for an empty string\n",
        "        new_class = re.sub(regex_pattern, '', row['Bullying_Traces?'])\n",
        "        df.loc[index,'Bullying_Traces?']=new_class\n",
        "    \n",
        "    # set all negative class labels to 0, all others to 1\n",
        "\n",
        "    df['Bullying_Traces?'] = df['Bullying_Traces?'].replace('n', 0)                    \n",
        "    df['Bullying_Traces?'] = df['Bullying_Traces?'].replace('y', 1)     \n",
        "    \n",
        "    return df\n",
        "\n",
        "##fomatted the Bullying_Traces? column to 1 for 'y' and 0 for 'n'\n",
        "data_train = format_class_labels(df_data)\n",
        "data_train.head()"
      ],
      "execution_count": 7,
      "outputs": [
        {
          "output_type": "execute_result",
          "data": {
            "text/html": [
              "<div>\n",
              "<style scoped>\n",
              "    .dataframe tbody tr th:only-of-type {\n",
              "        vertical-align: middle;\n",
              "    }\n",
              "\n",
              "    .dataframe tbody tr th {\n",
              "        vertical-align: top;\n",
              "    }\n",
              "\n",
              "    .dataframe thead th {\n",
              "        text-align: right;\n",
              "    }\n",
              "</style>\n",
              "<table border=\"1\" class=\"dataframe\">\n",
              "  <thead>\n",
              "    <tr style=\"text-align: right;\">\n",
              "      <th></th>\n",
              "      <th>Unnamed: 0</th>\n",
              "      <th>Tweet ID</th>\n",
              "      <th>User ID</th>\n",
              "      <th>Bullying_Traces?</th>\n",
              "      <th>Type</th>\n",
              "      <th>Form</th>\n",
              "      <th>Teasing?</th>\n",
              "      <th>Author_Role</th>\n",
              "      <th>Emotion</th>\n",
              "      <th>0</th>\n",
              "    </tr>\n",
              "  </thead>\n",
              "  <tbody>\n",
              "    <tr>\n",
              "      <th>0</th>\n",
              "      <td>0</td>\n",
              "      <td>107688644067856384</td>\n",
              "      <td>185389094</td>\n",
              "      <td>1</td>\n",
              "      <td>self-disclosure</td>\n",
              "      <td>other</td>\n",
              "      <td>n</td>\n",
              "      <td>defender</td>\n",
              "      <td>empathy</td>\n",
              "      <td>b'@bellathorne143 i herd that you got bullied ...</td>\n",
              "    </tr>\n",
              "    <tr>\n",
              "      <th>1</th>\n",
              "      <td>1</td>\n",
              "      <td>102206417217392640</td>\n",
              "      <td>226320672</td>\n",
              "      <td>0</td>\n",
              "      <td>NaN</td>\n",
              "      <td>NaN</td>\n",
              "      <td>NaN</td>\n",
              "      <td>NaN</td>\n",
              "      <td>NaN</td>\n",
              "      <td>b'Bullying: O gesto mais idiota, estpido e irr...</td>\n",
              "    </tr>\n",
              "    <tr>\n",
              "      <th>2</th>\n",
              "      <td>2</td>\n",
              "      <td>102779484725448704</td>\n",
              "      <td>297557032</td>\n",
              "      <td>0</td>\n",
              "      <td>NaN</td>\n",
              "      <td>NaN</td>\n",
              "      <td>NaN</td>\n",
              "      <td>NaN</td>\n",
              "      <td>NaN</td>\n",
              "      <td>b'The Bully at School Goes High Tech  Part 1: ...</td>\n",
              "    </tr>\n",
              "    <tr>\n",
              "      <th>3</th>\n",
              "      <td>3</td>\n",
              "      <td>108676972149874688</td>\n",
              "      <td>157724561</td>\n",
              "      <td>0</td>\n",
              "      <td>NaN</td>\n",
              "      <td>NaN</td>\n",
              "      <td>NaN</td>\n",
              "      <td>NaN</td>\n",
              "      <td>NaN</td>\n",
              "      <td>b'Esse @Felipemath  fazendo bullying comigo! H...</td>\n",
              "    </tr>\n",
              "    <tr>\n",
              "      <th>4</th>\n",
              "      <td>4</td>\n",
              "      <td>106590106873372672</td>\n",
              "      <td>62179998</td>\n",
              "      <td>0</td>\n",
              "      <td>NaN</td>\n",
              "      <td>NaN</td>\n",
              "      <td>NaN</td>\n",
              "      <td>NaN</td>\n",
              "      <td>NaN</td>\n",
              "      <td>b'AUISHUAHS eu e o @wallace_mancha tiramos o d...</td>\n",
              "    </tr>\n",
              "  </tbody>\n",
              "</table>\n",
              "</div>"
            ],
            "text/plain": [
              "  Unnamed: 0            Tweet ID    User ID  Bullying_Traces?  \\\n",
              "0          0  107688644067856384  185389094                 1   \n",
              "1          1  102206417217392640  226320672                 0   \n",
              "2          2  102779484725448704  297557032                 0   \n",
              "3          3  108676972149874688  157724561                 0   \n",
              "4          4  106590106873372672   62179998                 0   \n",
              "\n",
              "              Type   Form Teasing? Author_Role  Emotion  \\\n",
              "0  self-disclosure  other        n    defender  empathy   \n",
              "1              NaN    NaN      NaN         NaN      NaN   \n",
              "2              NaN    NaN      NaN         NaN      NaN   \n",
              "3              NaN    NaN      NaN         NaN      NaN   \n",
              "4              NaN    NaN      NaN         NaN      NaN   \n",
              "\n",
              "                                                   0  \n",
              "0  b'@bellathorne143 i herd that you got bullied ...  \n",
              "1  b'Bullying: O gesto mais idiota, estpido e irr...  \n",
              "2  b'The Bully at School Goes High Tech  Part 1: ...  \n",
              "3  b'Esse @Felipemath  fazendo bullying comigo! H...  \n",
              "4  b'AUISHUAHS eu e o @wallace_mancha tiramos o d...  "
            ]
          },
          "metadata": {
            "tags": []
          },
          "execution_count": 7
        }
      ]
    },
    {
      "metadata": {
        "id": "-nhndUnJhOZI",
        "colab_type": "code",
        "colab": {}
      },
      "cell_type": "code",
      "source": [
        "data_train.Type."
      ],
      "execution_count": 0,
      "outputs": []
    },
    {
      "metadata": {
        "id": "RBH81nIx1UIZ",
        "colab_type": "code",
        "colab": {}
      },
      "cell_type": "code",
      "source": [
        "##train and test split\n",
        "X_train, X_test, y_train, y_test = train_test_split(data_train['0'], data_train['Bullying_Traces?'], test_size = 0.2)\n",
        "#X_train"
      ],
      "execution_count": 0,
      "outputs": []
    },
    {
      "metadata": {
        "id": "hUG9OFLm2RJ-",
        "colab_type": "code",
        "colab": {}
      },
      "cell_type": "code",
      "source": [
        "y_train"
      ],
      "execution_count": 0,
      "outputs": []
    },
    {
      "metadata": {
        "id": "zPhgy_ft2Z2W",
        "colab_type": "text"
      },
      "cell_type": "markdown",
      "source": [
        "### **Model: TF-IDF**"
      ]
    },
    {
      "metadata": {
        "id": "spFpwETa2ZbW",
        "colab_type": "code",
        "colab": {
          "base_uri": "https://localhost:8080/",
          "height": 34
        },
        "outputId": "3ae4b893-83fe-4b4f-fd07-62f34c8d3854"
      },
      "cell_type": "code",
      "source": [
        "from sklearn.metrics import accuracy_score\n",
        "\n",
        "pipeline = Pipeline([('vect', CountVectorizer(min_df=0.05, max_df=0.75)),('clf', MultinomialNB()),])\n",
        "pipeline.fit(X_train, y_train)\n",
        "y_predicted = pipeline.predict_proba(X_test)\n",
        "\n",
        "##predicts outcome with thte highest probability\n",
        "y_val_predict = [np.argmax(y) for y in y_predicted]\n",
        "\n",
        "##print accuracy\n",
        "print(accuracy_score(y_test, y_val_predict))"
      ],
      "execution_count": 12,
      "outputs": [
        {
          "output_type": "stream",
          "text": [
            "0.7294117647058823\n"
          ],
          "name": "stdout"
        }
      ]
    },
    {
      "metadata": {
        "id": "HMugI6S8cqEn",
        "colab_type": "code",
        "colab": {
          "base_uri": "https://localhost:8080/",
          "height": 52
        },
        "outputId": "56b9181a-05f6-4b06-e80c-a9e2025b7817"
      },
      "cell_type": "code",
      "source": [
        "##confusion matrix\n",
        "from sklearn.metrics import confusion_matrix\n",
        "cm = confusion_matrix(y_test, y_val_predict)\n",
        "cm"
      ],
      "execution_count": 13,
      "outputs": [
        {
          "output_type": "execute_result",
          "data": {
            "text/plain": [
              "array([[55,  8],\n",
              "       [15,  7]])"
            ]
          },
          "metadata": {
            "tags": []
          },
          "execution_count": 13
        }
      ]
    },
    {
      "metadata": {
        "id": "u6xFnAmFeB6w",
        "colab_type": "code",
        "colab": {
          "base_uri": "https://localhost:8080/",
          "height": 392
        },
        "outputId": "f3df0caa-4a14-48d1-cb15-c05b8dc77be5"
      },
      "cell_type": "code",
      "source": [
        "import matplotlib.pyplot as plt\n",
        "\n",
        "\n",
        "plt.figure(figsize=(8,6))\n",
        "plt.imshow(cm, cmap='hot', interpolation='nearest')\n",
        "plt.grid(False)\n",
        "plt.colorbar()\n",
        "plt.xlabel('true label')\n",
        "plt.ylabel('predicted label')\n",
        "plt.show()"
      ],
      "execution_count": 16,
      "outputs": [
        {
          "output_type": "display_data",
          "data": {
            "image/png": "[encoded data removed]",
            "text/plain": [
              "<matplotlib.figure.Figure at 0x7f7960887950>"
            ]
          },
          "metadata": {
            "tags": []
          }
        }
      ]
    },
    {
      "metadata": {
        "id": "q0M28xrbdTvx",
        "colab_type": "code",
        "colab": {
          "base_uri": "https://localhost:8080/",
          "height": 34
        },
        "outputId": "dffb8aff-4ee0-4088-92ce-b1f191c458d1"
      },
      "cell_type": "code",
      "source": [
        "##ROC curve\n",
        "from sklearn.metrics import roc_curve\n",
        "from sklearn.metrics import auc\n",
        "\n",
        "fpr, tpr, threshold = roc_curve(y_test, y_predicted[:,1])\n",
        "roc_auc = auc(fpr, tpr)\n",
        "roc_auc"
      ],
      "execution_count": 17,
      "outputs": [
        {
          "output_type": "execute_result",
          "data": {
            "text/plain": [
              "0.7734487734487735"
            ]
          },
          "metadata": {
            "tags": []
          },
          "execution_count": 17
        }
      ]
    },
    {
      "metadata": {
        "id": "ZGyAaT0Gd4dr",
        "colab_type": "code",
        "colab": {
          "base_uri": "https://localhost:8080/",
          "height": 376
        },
        "outputId": "d301dbe3-d189-40d2-9432-9f1cf337070f"
      },
      "cell_type": "code",
      "source": [
        "import matplotlib.pyplot as plt\n",
        "plt.title('Receiver Operating Characteristic')\n",
        "plt.plot(fpr, tpr, 'b', label = 'AUC = %0.3f' % roc_auc)\n",
        "plt.legend(loc = 'lower right')\n",
        "plt.plot([0, 1], [0, 1],'r--')\n",
        "plt.xlim([0, 1])\n",
        "plt.ylim([0, 1])\n",
        "plt.ylabel('True Positive Rate')\n",
        "plt.xlabel('False Positive Rate')\n",
        "plt.show()"
      ],
      "execution_count": 53,
      "outputs": [
        {
          "output_type": "display_data",
          "data": {
            "image/png": "[encoded data removed]",
            "text/plain": [
              "<matplotlib.figure.Figure at 0x7f1cfa195d90>"
            ]
          },
          "metadata": {
            "tags": []
          }
        }
      ]
    }
  ]
}