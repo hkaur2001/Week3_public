{
  "nbformat": 4,
  "nbformat_minor": 0,
  "metadata": {
    "colab": {
      "name": "NEWDATA word2vector latest TFIDF model",
      "version": "0.3.2",
      "provenance": [],
      "collapsed_sections": [],
      "include_colab_link": true
    }
  },
  "cells": [
    {
      "cell_type": "markdown",
      "metadata": {
        "id": "view-in-github",
        "colab_type": "text"
      },
      "source": [
        "[View in Colaboratory](https://colab.research.google.com/github/hkaur2001/Week3_public/blob/master/NEWDATA_word2vector_latest_TFIDF_model.ipynb)"
      ]
    },
    {
      "metadata": {
        "id": "RVAbjGqqx9pp",
        "colab_type": "text"
      },
      "cell_type": "markdown",
      "source": [
        "### **Imports**"
      ]
    },
    {
      "metadata": {
        "id": "HhN6DFBLyGBh",
        "colab_type": "code",
        "colab": {
          "base_uri": "https://localhost:8080/",
          "height": 233
        },
        "outputId": "37c523a8-0ab1-490c-e3b3-c823c25c9d2b"
      },
      "cell_type": "code",
      "source": [
        "! pip install PyDrive"
      ],
      "execution_count": 0,
      "outputs": [
        {
          "output_type": "stream",
          "text": [
            "Collecting PyDrive\n",
            "  Downloading https://files.pythonhosted.org/packages/6b/2d/c8e052ba51099faee0bfe71d84f35bb1576e6910483cad46b840a122ca6c/PyDrive-1.3.1-py2-none-any.whl\n",
            "Requirement already satisfied: PyYAML>=3.0 in /usr/local/lib/python2.7/dist-packages (from PyDrive) (3.13)\n",
            "Requirement already satisfied: oauth2client>=4.0.0 in /usr/local/lib/python2.7/dist-packages (from PyDrive) (4.1.2)\n",
            "Requirement already satisfied: google-api-python-client>=1.2 in /usr/local/lib/python2.7/dist-packages (from PyDrive) (1.6.7)\n",
            "Requirement already satisfied: httplib2>=0.9.1 in /usr/local/lib/python2.7/dist-packages (from oauth2client>=4.0.0->PyDrive) (0.11.3)\n",
            "Requirement already satisfied: rsa>=3.1.4 in /usr/local/lib/python2.7/dist-packages (from oauth2client>=4.0.0->PyDrive) (3.4.2)\n",
            "Requirement already satisfied: pyasn1>=0.1.7 in /usr/local/lib/python2.7/dist-packages (from oauth2client>=4.0.0->PyDrive) (0.4.4)\n",
            "Requirement already satisfied: pyasn1-modules>=0.0.5 in /usr/local/lib/python2.7/dist-packages (from oauth2client>=4.0.0->PyDrive) (0.2.2)\n",
            "Requirement already satisfied: six>=1.6.1 in /usr/local/lib/python2.7/dist-packages (from oauth2client>=4.0.0->PyDrive) (1.11.0)\n",
            "Requirement already satisfied: uritemplate<4dev,>=3.0.0 in /usr/local/lib/python2.7/dist-packages (from google-api-python-client>=1.2->PyDrive) (3.0.0)\n",
            "Installing collected packages: PyDrive\n",
            "Successfully installed PyDrive-1.3.1\n"
          ],
          "name": "stdout"
        }
      ]
    },
    {
      "metadata": {
        "id": "Baqy7g3VxT5t",
        "colab_type": "code",
        "colab": {}
      },
      "cell_type": "code",
      "source": [
        "from pydrive.auth import GoogleAuth\n",
        "from pydrive.drive import GoogleDrive\n",
        "from google.colab import auth\n",
        "from oauth2client.client import GoogleCredentials\n",
        "import sys\n",
        "from sklearn.datasets import load_files\n",
        "from sklearn.model_selection import train_test_split\n",
        "from sklearn import metrics\n",
        "from sklearn.pipeline import Pipeline\n",
        "from sklearn.svm import LinearSVC\n",
        "from sklearn.naive_bayes import MultinomialNB\n",
        "from sklearn.feature_extraction.text import CountVectorizer\n",
        "from sklearn.feature_extraction.text import TfidfVectorizer\n",
        "import numpy as np\n",
        "import pandas as pd\n",
        "import os"
      ],
      "execution_count": 0,
      "outputs": []
    },
    {
      "metadata": {
        "id": "f3pdWZqHpXyR",
        "colab_type": "code",
        "colab": {}
      },
      "cell_type": "code",
      "source": [
        "# 1. Authenticate and create the PyDrive client.\n",
        "auth.authenticate_user()\n",
        "gauth = GoogleAuth()\n",
        "gauth.credentials = GoogleCredentials.get_application_default()\n",
        "drive = GoogleDrive(gauth)"
      ],
      "execution_count": 0,
      "outputs": []
    },
    {
      "metadata": {
        "id": "tRJ0WAeDz9iH",
        "colab_type": "code",
        "colab": {
          "base_uri": "https://localhost:8080/",
          "height": 293
        },
        "outputId": "87732b15-fa40-4543-af26-2112060f2a4f"
      },
      "cell_type": "code",
      "source": [
        "### lists the files in the folder \n",
        "file_list = drive.ListFile({'q': \"'18sX8Dymv_AAEaY7mJxbmh_LjljD8oRwK' in parents and trashed=false\"}).GetList() ## long string in the url of folder\n",
        "for file1 in file_list:\n",
        "  print('title: %s, id: %s' % (file1['title'], file1['id']))"
      ],
      "execution_count": 0,
      "outputs": [
        {
          "output_type": "stream",
          "text": [
            "title: Data_2000_2, id: 1sIgmLvS0iJUgxvjKLBjwSQHoY9P-YsyL\n",
            "title: data_3200.csv, id: 1jOH6hepK10-rdzxv0k6A3_svS4H9T48H\n",
            "title: Data Vector CLEAN, id: 1uCZsgzLhptTs56JNz_C4lbrbLQvFOAwW\n",
            "title: Data_2000_1, id: 11fiGbqwp_ekLtPBhuVkjYO3-1RWWr91Y\n",
            "title: bully_victim1.csv, id: 1ngNQ_sLWIAnN7scAxJl4-y8QZB_soeTQ\n",
            "title: bully_victim.csv, id: 1qud97IBO3rkLkmDJTi-Y8U--waH7v6tb\n",
            "title: data_categorical_multi.csv, id: 10qfXUcLUW4GPBM1ra3_cRBpnW9ltQEh-\n",
            "title: data_categorical_binary.csv, id: 1Mn0cT-De4mq-9gJ7J2s201jvZQ1bWNGK\n",
            "title: formatted, id: 1cuN_xbf0pz7t1TY6t8vskoVa6SXXWQK7\n",
            "title: glove.6B.100d.txt, id: 1-FOMH_1xZcjtYo1uW3_2BwozqHFC-dZb\n",
            "title: Data WITH b', id: 1yDewPt327TxTrKCvuCIpHNyigDMaKPyv\n",
            "title: glove.6B.zip, id: 1tuFKpS8F1lhnaemAYi_w498Vli6WGuKP\n",
            "title: data_tweet_clean_500_stop.csv, id: 1bUddQJ0LejpEROhpWmMtYYSoXvR2q4pc\n",
            "title: Data Cleaning, id: 1JsVnP9kago0ipdSqtX7txLQWMTwSPZ3X\n",
            "title: data_Tweet_clean.csv, id: 1FNa4-dHR6aEeunRIwMnaBBacSlCHZOsW\n",
            "title: Medication_1, id: 1yvcgD5F6on7s9gwS56GWajZNPtvYg_4H\n",
            "title: Twitter_Neg_Pos, id: 1-SvbE_55FqDfqtp588p3HvcojmREUOWc\n"
          ],
          "name": "stdout"
        }
      ]
    },
    {
      "metadata": {
        "id": "kD6QKsXIozzw",
        "colab_type": "code",
        "colab": {
          "base_uri": "https://localhost:8080/",
          "height": 478
        },
        "outputId": "3b6305ab-071f-4824-d9b5-7d8afb2622d1"
      },
      "cell_type": "code",
      "source": [
        "### download the file \n",
        "file_downloaded = drive.CreateFile({'id': '1jEg_1SJXvTWR5VYYYTRomoe2YaCPFBqm'})\n",
        "file_downloaded.GetContentFile('data_2000_1_VEC.csv')\n",
        "\n",
        "df_data = pd.read_csv('data_2000_1_VEC.csv', dtype = str)\n",
        "df_data.head(15)\n",
        "#type(df_data['Text'][0])\n",
        "\n",
        "\n"
      ],
      "execution_count": 0,
      "outputs": [
        {
          "output_type": "execute_result",
          "data": {
            "text/html": [
              "<div>\n",
              "<style scoped>\n",
              "    .dataframe tbody tr th:only-of-type {\n",
              "        vertical-align: middle;\n",
              "    }\n",
              "\n",
              "    .dataframe tbody tr th {\n",
              "        vertical-align: top;\n",
              "    }\n",
              "\n",
              "    .dataframe thead th {\n",
              "        text-align: right;\n",
              "    }\n",
              "</style>\n",
              "<table border=\"1\" class=\"dataframe\">\n",
              "  <thead>\n",
              "    <tr style=\"text-align: right;\">\n",
              "      <th></th>\n",
              "      <th>Tweet ID</th>\n",
              "      <th>User ID</th>\n",
              "      <th>Bullying_Traces?</th>\n",
              "      <th>Type</th>\n",
              "      <th>Form</th>\n",
              "      <th>Teasing?</th>\n",
              "      <th>Author_Role</th>\n",
              "      <th>Emotion</th>\n",
              "      <th>Text</th>\n",
              "    </tr>\n",
              "  </thead>\n",
              "  <tbody>\n",
              "    <tr>\n",
              "      <th>0</th>\n",
              "      <td>107688644067856384</td>\n",
              "      <td>185389094</td>\n",
              "      <td>1</td>\n",
              "      <td>self-disclosure</td>\n",
              "      <td>other</td>\n",
              "      <td>n</td>\n",
              "      <td>defender</td>\n",
              "      <td>empathy</td>\n",
              "      <td>i herd that you got bullied when you was 6 yea...</td>\n",
              "    </tr>\n",
              "    <tr>\n",
              "      <th>1</th>\n",
              "      <td>102206417217392640</td>\n",
              "      <td>226320672</td>\n",
              "      <td>0</td>\n",
              "      <td>NaN</td>\n",
              "      <td>NaN</td>\n",
              "      <td>NaN</td>\n",
              "      <td>NaN</td>\n",
              "      <td>NaN</td>\n",
              "      <td>bullying o gesto mais e que um ser humano pode</td>\n",
              "    </tr>\n",
              "    <tr>\n",
              "      <th>2</th>\n",
              "      <td>102779484725448704</td>\n",
              "      <td>297557032</td>\n",
              "      <td>0</td>\n",
              "      <td>NaN</td>\n",
              "      <td>NaN</td>\n",
              "      <td>NaN</td>\n",
              "      <td>NaN</td>\n",
              "      <td>NaN</td>\n",
              "      <td>the bully at school goes high tech part 1 the ...</td>\n",
              "    </tr>\n",
              "    <tr>\n",
              "      <th>3</th>\n",
              "      <td>108676972149874688</td>\n",
              "      <td>157724561</td>\n",
              "      <td>0</td>\n",
              "      <td>NaN</td>\n",
              "      <td>NaN</td>\n",
              "      <td>NaN</td>\n",
              "      <td>NaN</td>\n",
              "      <td>NaN</td>\n",
              "      <td>esse bullying haha</td>\n",
              "    </tr>\n",
              "    <tr>\n",
              "      <th>4</th>\n",
              "      <td>106590106873372672</td>\n",
              "      <td>62179998</td>\n",
              "      <td>0</td>\n",
              "      <td>NaN</td>\n",
              "      <td>NaN</td>\n",
              "      <td>NaN</td>\n",
              "      <td>NaN</td>\n",
              "      <td>NaN</td>\n",
              "      <td>eu e o mancha o dia pra bullying com a</td>\n",
              "    </tr>\n",
              "    <tr>\n",
              "      <th>5</th>\n",
              "      <td>109034091743154176</td>\n",
              "      <td>177913822</td>\n",
              "      <td>0</td>\n",
              "      <td>NaN</td>\n",
              "      <td>NaN</td>\n",
              "      <td>NaN</td>\n",
              "      <td>NaN</td>\n",
              "      <td>NaN</td>\n",
              "      <td>hello since when i got bully people never phys...</td>\n",
              "    </tr>\n",
              "    <tr>\n",
              "      <th>6</th>\n",
              "      <td>102533497637437441</td>\n",
              "      <td>70412906</td>\n",
              "      <td>1</td>\n",
              "      <td>report</td>\n",
              "      <td>other</td>\n",
              "      <td>n</td>\n",
              "      <td>reporter</td>\n",
              "      <td>none</td>\n",
              "      <td>for those keeping score at home cousin who jus...</td>\n",
              "    </tr>\n",
              "    <tr>\n",
              "      <th>7</th>\n",
              "      <td>103679008855691264</td>\n",
              "      <td>11363462</td>\n",
              "      <td>0</td>\n",
              "      <td>NaN</td>\n",
              "      <td>NaN</td>\n",
              "      <td>NaN</td>\n",
              "      <td>NaN</td>\n",
              "      <td>NaN</td>\n",
              "      <td>better anti bullying ad slogans hey bullies si...</td>\n",
              "    </tr>\n",
              "    <tr>\n",
              "      <th>8</th>\n",
              "      <td>105202476927549441</td>\n",
              "      <td>293593896</td>\n",
              "      <td>0</td>\n",
              "      <td>NaN</td>\n",
              "      <td>NaN</td>\n",
              "      <td>NaN</td>\n",
              "      <td>NaN</td>\n",
              "      <td>NaN</td>\n",
              "      <td>lo kaga dia juga gue kira pada si sq itu ayo t...</td>\n",
              "    </tr>\n",
              "    <tr>\n",
              "      <th>9</th>\n",
              "      <td>107278521805713408</td>\n",
              "      <td>150964152</td>\n",
              "      <td>0</td>\n",
              "      <td>NaN</td>\n",
              "      <td>NaN</td>\n",
              "      <td>NaN</td>\n",
              "      <td>NaN</td>\n",
              "      <td>NaN</td>\n",
              "      <td>bully iam uda di tpi gk bls</td>\n",
              "    </tr>\n",
              "    <tr>\n",
              "      <th>10</th>\n",
              "      <td>107478741424414720</td>\n",
              "      <td>360086723</td>\n",
              "      <td>0</td>\n",
              "      <td>NaN</td>\n",
              "      <td>NaN</td>\n",
              "      <td>NaN</td>\n",
              "      <td>NaN</td>\n",
              "      <td>NaN</td>\n",
              "      <td>please help to stop workplace bullying</td>\n",
              "    </tr>\n",
              "    <tr>\n",
              "      <th>11</th>\n",
              "      <td>103471384973418497</td>\n",
              "      <td>219025244</td>\n",
              "      <td>0</td>\n",
              "      <td>NaN</td>\n",
              "      <td>NaN</td>\n",
              "      <td>NaN</td>\n",
              "      <td>NaN</td>\n",
              "      <td>NaN</td>\n",
              "      <td>robbo yes on thur she said she might we ll bul...</td>\n",
              "    </tr>\n",
              "    <tr>\n",
              "      <th>12</th>\n",
              "      <td>106840582453870592</td>\n",
              "      <td>244569315</td>\n",
              "      <td>0</td>\n",
              "      <td>NaN</td>\n",
              "      <td>NaN</td>\n",
              "      <td>NaN</td>\n",
              "      <td>NaN</td>\n",
              "      <td>NaN</td>\n",
              "      <td>bobby needs threw out that is disgusting bully</td>\n",
              "    </tr>\n",
              "    <tr>\n",
              "      <th>13</th>\n",
              "      <td>101324602789208064</td>\n",
              "      <td>210803457</td>\n",
              "      <td>1</td>\n",
              "      <td>report</td>\n",
              "      <td>other</td>\n",
              "      <td>n</td>\n",
              "      <td>reporter</td>\n",
              "      <td>none</td>\n",
              "      <td>don t you get it this is me getting rid of you...</td>\n",
              "    </tr>\n",
              "    <tr>\n",
              "      <th>14</th>\n",
              "      <td>105799405784936448</td>\n",
              "      <td>264606687</td>\n",
              "      <td>0</td>\n",
              "      <td>NaN</td>\n",
              "      <td>NaN</td>\n",
              "      <td>NaN</td>\n",
              "      <td>NaN</td>\n",
              "      <td>NaN</td>\n",
              "      <td>no bullying se eu um na sua cara e que de</td>\n",
              "    </tr>\n",
              "  </tbody>\n",
              "</table>\n",
              "</div>"
            ],
            "text/plain": [
              "              Tweet ID    User ID Bullying_Traces?             Type   Form  \\\n",
              "0   107688644067856384  185389094                1  self-disclosure  other   \n",
              "1   102206417217392640  226320672                0              NaN    NaN   \n",
              "2   102779484725448704  297557032                0              NaN    NaN   \n",
              "3   108676972149874688  157724561                0              NaN    NaN   \n",
              "4   106590106873372672   62179998                0              NaN    NaN   \n",
              "5   109034091743154176  177913822                0              NaN    NaN   \n",
              "6   102533497637437441   70412906                1           report  other   \n",
              "7   103679008855691264   11363462                0              NaN    NaN   \n",
              "8   105202476927549441  293593896                0              NaN    NaN   \n",
              "9   107278521805713408  150964152                0              NaN    NaN   \n",
              "10  107478741424414720  360086723                0              NaN    NaN   \n",
              "11  103471384973418497  219025244                0              NaN    NaN   \n",
              "12  106840582453870592  244569315                0              NaN    NaN   \n",
              "13  101324602789208064  210803457                1           report  other   \n",
              "14  105799405784936448  264606687                0              NaN    NaN   \n",
              "\n",
              "   Teasing? Author_Role  Emotion  \\\n",
              "0         n    defender  empathy   \n",
              "1       NaN         NaN      NaN   \n",
              "2       NaN         NaN      NaN   \n",
              "3       NaN         NaN      NaN   \n",
              "4       NaN         NaN      NaN   \n",
              "5       NaN         NaN      NaN   \n",
              "6         n    reporter     none   \n",
              "7       NaN         NaN      NaN   \n",
              "8       NaN         NaN      NaN   \n",
              "9       NaN         NaN      NaN   \n",
              "10      NaN         NaN      NaN   \n",
              "11      NaN         NaN      NaN   \n",
              "12      NaN         NaN      NaN   \n",
              "13        n    reporter     none   \n",
              "14      NaN         NaN      NaN   \n",
              "\n",
              "                                                 Text  \n",
              "0   i herd that you got bullied when you was 6 yea...  \n",
              "1      bullying o gesto mais e que um ser humano pode  \n",
              "2   the bully at school goes high tech part 1 the ...  \n",
              "3                                  esse bullying haha  \n",
              "4              eu e o mancha o dia pra bullying com a  \n",
              "5   hello since when i got bully people never phys...  \n",
              "6   for those keeping score at home cousin who jus...  \n",
              "7   better anti bullying ad slogans hey bullies si...  \n",
              "8   lo kaga dia juga gue kira pada si sq itu ayo t...  \n",
              "9                         bully iam uda di tpi gk bls  \n",
              "10             please help to stop workplace bullying  \n",
              "11  robbo yes on thur she said she might we ll bul...  \n",
              "12     bobby needs threw out that is disgusting bully  \n",
              "13  don t you get it this is me getting rid of you...  \n",
              "14          no bullying se eu um na sua cara e que de  "
            ]
          },
          "metadata": {
            "tags": []
          },
          "execution_count": 78
        }
      ]
    },
    {
      "metadata": {
        "id": "3X6KWgAgkjE5",
        "colab_type": "text"
      },
      "cell_type": "markdown",
      "source": [
        "Formating data"
      ]
    },
    {
      "metadata": {
        "id": "YoKjYmZaopgT",
        "colab_type": "code",
        "colab": {
          "base_uri": "https://localhost:8080/",
          "height": 50
        },
        "outputId": "0aab8e5b-79dc-497f-daf1-93b13f03dbcb"
      },
      "cell_type": "code",
      "source": [
        "df_data['Author_Role'].unique()"
      ],
      "execution_count": 0,
      "outputs": [
        {
          "output_type": "execute_result",
          "data": {
            "text/plain": [
              "array(['defender', nan, 'reporter', 'victim', 'bully', 'accuser',\n",
              "       'reinforcer', 'assistant'], dtype=object)"
            ]
          },
          "metadata": {
            "tags": []
          },
          "execution_count": 79
        }
      ]
    },
    {
      "metadata": {
        "id": "zG8JLqN2kiVU",
        "colab_type": "code",
        "colab": {
          "base_uri": "https://localhost:8080/",
          "height": 191
        },
        "outputId": "c4acff15-87ad-4e93-98f7-8b484cd27c31"
      },
      "cell_type": "code",
      "source": [
        "import re \n",
        "def format_class_labels(df):\n",
        "    \n",
        "    # regex the weird class labels out\n",
        "    regex_pattern = ( \"\\.\\|\\d+\")\n",
        "\n",
        "    for index, row in df.iterrows():\n",
        "\n",
        "        # substitute instances of our regex_pattern for an empty string\n",
        "        new_class = re.sub(regex_pattern, '', row['Bullying_Traces?'])\n",
        "        df.loc[index,'Bullying_Traces?']=new_class\n",
        "    \n",
        "    # set all negative class labels to 0, all others to 1\n",
        "\n",
        "    df['Bullying_Traces?'] = df['Bullying_Traces?'].replace('n', 0)                    \n",
        "    df['Bullying_Traces?'] = df['Bullying_Traces?'].replace('y', 1)     \n",
        "    \n",
        "    return df\n",
        "\n",
        "##fomatted the Bullying_Traces? column to 1 for 'y' and 0 for 'n'\n",
        "data_train = format_class_labels(df_data)\n",
        "data_train.head()"
      ],
      "execution_count": 0,
      "outputs": [
        {
          "output_type": "execute_result",
          "data": {
            "text/html": [
              "<div>\n",
              "<style scoped>\n",
              "    .dataframe tbody tr th:only-of-type {\n",
              "        vertical-align: middle;\n",
              "    }\n",
              "\n",
              "    .dataframe tbody tr th {\n",
              "        vertical-align: top;\n",
              "    }\n",
              "\n",
              "    .dataframe thead th {\n",
              "        text-align: right;\n",
              "    }\n",
              "</style>\n",
              "<table border=\"1\" class=\"dataframe\">\n",
              "  <thead>\n",
              "    <tr style=\"text-align: right;\">\n",
              "      <th></th>\n",
              "      <th>Tweet ID</th>\n",
              "      <th>User ID</th>\n",
              "      <th>Bullying_Traces?</th>\n",
              "      <th>Type</th>\n",
              "      <th>Form</th>\n",
              "      <th>Teasing?</th>\n",
              "      <th>Author_Role</th>\n",
              "      <th>Emotion</th>\n",
              "      <th>Text</th>\n",
              "    </tr>\n",
              "  </thead>\n",
              "  <tbody>\n",
              "    <tr>\n",
              "      <th>0</th>\n",
              "      <td>107688644067856384</td>\n",
              "      <td>185389094</td>\n",
              "      <td>1</td>\n",
              "      <td>self-disclosure</td>\n",
              "      <td>other</td>\n",
              "      <td>n</td>\n",
              "      <td>defender</td>\n",
              "      <td>empathy</td>\n",
              "      <td>i herd that you got bullied when you was 6 yea...</td>\n",
              "    </tr>\n",
              "    <tr>\n",
              "      <th>1</th>\n",
              "      <td>102206417217392640</td>\n",
              "      <td>226320672</td>\n",
              "      <td>0</td>\n",
              "      <td>NaN</td>\n",
              "      <td>NaN</td>\n",
              "      <td>NaN</td>\n",
              "      <td>NaN</td>\n",
              "      <td>NaN</td>\n",
              "      <td>bullying o gesto mais e que um ser humano pode</td>\n",
              "    </tr>\n",
              "    <tr>\n",
              "      <th>2</th>\n",
              "      <td>102779484725448704</td>\n",
              "      <td>297557032</td>\n",
              "      <td>0</td>\n",
              "      <td>NaN</td>\n",
              "      <td>NaN</td>\n",
              "      <td>NaN</td>\n",
              "      <td>NaN</td>\n",
              "      <td>NaN</td>\n",
              "      <td>the bully at school goes high tech part 1 the ...</td>\n",
              "    </tr>\n",
              "    <tr>\n",
              "      <th>3</th>\n",
              "      <td>108676972149874688</td>\n",
              "      <td>157724561</td>\n",
              "      <td>0</td>\n",
              "      <td>NaN</td>\n",
              "      <td>NaN</td>\n",
              "      <td>NaN</td>\n",
              "      <td>NaN</td>\n",
              "      <td>NaN</td>\n",
              "      <td>esse bullying haha</td>\n",
              "    </tr>\n",
              "    <tr>\n",
              "      <th>4</th>\n",
              "      <td>106590106873372672</td>\n",
              "      <td>62179998</td>\n",
              "      <td>0</td>\n",
              "      <td>NaN</td>\n",
              "      <td>NaN</td>\n",
              "      <td>NaN</td>\n",
              "      <td>NaN</td>\n",
              "      <td>NaN</td>\n",
              "      <td>eu e o mancha o dia pra bullying com a</td>\n",
              "    </tr>\n",
              "  </tbody>\n",
              "</table>\n",
              "</div>"
            ],
            "text/plain": [
              "             Tweet ID    User ID Bullying_Traces?             Type   Form  \\\n",
              "0  107688644067856384  185389094                1  self-disclosure  other   \n",
              "1  102206417217392640  226320672                0              NaN    NaN   \n",
              "2  102779484725448704  297557032                0              NaN    NaN   \n",
              "3  108676972149874688  157724561                0              NaN    NaN   \n",
              "4  106590106873372672   62179998                0              NaN    NaN   \n",
              "\n",
              "  Teasing? Author_Role  Emotion  \\\n",
              "0        n    defender  empathy   \n",
              "1      NaN         NaN      NaN   \n",
              "2      NaN         NaN      NaN   \n",
              "3      NaN         NaN      NaN   \n",
              "4      NaN         NaN      NaN   \n",
              "\n",
              "                                                Text  \n",
              "0  i herd that you got bullied when you was 6 yea...  \n",
              "1     bullying o gesto mais e que um ser humano pode  \n",
              "2  the bully at school goes high tech part 1 the ...  \n",
              "3                                 esse bullying haha  \n",
              "4             eu e o mancha o dia pra bullying com a  "
            ]
          },
          "metadata": {
            "tags": []
          },
          "execution_count": 80
        }
      ]
    },
    {
      "metadata": {
        "id": "c1eQdVYfNzkz",
        "colab_type": "code",
        "colab": {}
      },
      "cell_type": "code",
      "source": [
        "data_train['Bullying_Traces?']=pd.to_numeric(data_train['Bullying_Traces?'])"
      ],
      "execution_count": 0,
      "outputs": []
    },
    {
      "metadata": {
        "id": "tL0yZcBEPEoc",
        "colab_type": "code",
        "colab": {
          "base_uri": "https://localhost:8080/",
          "height": 33
        },
        "outputId": "bb4b41e4-fcbb-42d8-ca30-63438d1b2390"
      },
      "cell_type": "code",
      "source": [
        "type(data_train['Bullying_Traces?'][0])"
      ],
      "execution_count": 0,
      "outputs": [
        {
          "output_type": "execute_result",
          "data": {
            "text/plain": [
              "numpy.int64"
            ]
          },
          "metadata": {
            "tags": []
          },
          "execution_count": 82
        }
      ]
    },
    {
      "metadata": {
        "id": "mzSsXXcnxXNp",
        "colab_type": "code",
        "colab": {}
      },
      "cell_type": "code",
      "source": [
        "# words = []\n",
        "# for i in range(data_train.shape[0]):\n",
        "#   words.append(data_train['Text'][i].split(\" \"))\n",
        "\n",
        "#   #every vector inside of the array has 100 "
      ],
      "execution_count": 0,
      "outputs": []
    },
    {
      "metadata": {
        "id": "xXPdguVx3g5U",
        "colab_type": "code",
        "colab": {}
      },
      "cell_type": "code",
      "source": [
        "# len(words[3])"
      ],
      "execution_count": 0,
      "outputs": []
    },
    {
      "metadata": {
        "id": "VsSjhfsDxuwM",
        "colab_type": "code",
        "colab": {}
      },
      "cell_type": "code",
      "source": [
        "# max_words = len(data_train['Text'][0])\n",
        "# for i in range(data_train.shape[0]):\n",
        "#   if len(data_train['Text'][i]) > max_words:\n",
        "#     max_words = len(data_train['Text'][i])\n",
        "\n",
        "# max_words"
      ],
      "execution_count": 0,
      "outputs": []
    },
    {
      "metadata": {
        "id": "Jvsbs1lg1teX",
        "colab_type": "code",
        "colab": {
          "base_uri": "https://localhost:8080/",
          "height": 33
        },
        "outputId": "a9bd7619-536b-433a-dce1-f3eb14e6bc99"
      },
      "cell_type": "code",
      "source": [
        "to_Vec.shape"
      ],
      "execution_count": 0,
      "outputs": [
        {
          "output_type": "execute_result",
          "data": {
            "text/plain": [
              "(2080, 31, 100)"
            ]
          },
          "metadata": {
            "tags": []
          },
          "execution_count": 86
        }
      ]
    },
    {
      "metadata": {
        "id": "ijThOEtl-QkX",
        "colab_type": "code",
        "colab": {}
      },
      "cell_type": "code",
      "source": [
        ""
      ],
      "execution_count": 0,
      "outputs": []
    },
    {
      "metadata": {
        "id": "xO9KxLvsjmzt",
        "colab_type": "text"
      },
      "cell_type": "markdown",
      "source": [
        "# **WORD2VEC TRIAL**"
      ]
    },
    {
      "metadata": {
        "id": "z6wkjbehk9Br",
        "colab_type": "code",
        "colab": {
          "base_uri": "https://localhost:8080/",
          "height": 346
        },
        "outputId": "3775e242-d60a-4b94-907b-7cc36d498982"
      },
      "cell_type": "code",
      "source": [
        "!pip install -U gensim\n"
      ],
      "execution_count": 0,
      "outputs": [
        {
          "output_type": "stream",
          "text": [
            "Requirement already up-to-date: gensim in /usr/local/lib/python2.7/dist-packages (3.5.0)\n",
            "Requirement already satisfied, skipping upgrade: smart-open>=1.2.1 in /usr/local/lib/python2.7/dist-packages (from gensim) (1.6.0)\n",
            "Requirement already satisfied, skipping upgrade: six>=1.5.0 in /usr/local/lib/python2.7/dist-packages (from gensim) (1.11.0)\n",
            "Requirement already satisfied, skipping upgrade: scipy>=0.18.1 in /usr/local/lib/python2.7/dist-packages (from gensim) (0.19.1)\n",
            "Requirement already satisfied, skipping upgrade: numpy>=1.11.3 in /usr/local/lib/python2.7/dist-packages (from gensim) (1.14.5)\n",
            "Requirement already satisfied, skipping upgrade: bz2file in /usr/local/lib/python2.7/dist-packages (from smart-open>=1.2.1->gensim) (0.98)\n",
            "Requirement already satisfied, skipping upgrade: boto>=2.32 in /usr/local/lib/python2.7/dist-packages (from smart-open>=1.2.1->gensim) (2.49.0)\n",
            "Requirement already satisfied, skipping upgrade: requests in /usr/local/lib/python2.7/dist-packages (from smart-open>=1.2.1->gensim) (2.18.4)\n",
            "Requirement already satisfied, skipping upgrade: boto3 in /usr/local/lib/python2.7/dist-packages (from smart-open>=1.2.1->gensim) (1.7.68)\n",
            "Requirement already satisfied, skipping upgrade: idna<2.7,>=2.5 in /usr/local/lib/python2.7/dist-packages (from requests->smart-open>=1.2.1->gensim) (2.6)\n",
            "Requirement already satisfied, skipping upgrade: urllib3<1.23,>=1.21.1 in /usr/local/lib/python2.7/dist-packages (from requests->smart-open>=1.2.1->gensim) (1.22)\n",
            "Requirement already satisfied, skipping upgrade: certifi>=2017.4.17 in /usr/local/lib/python2.7/dist-packages (from requests->smart-open>=1.2.1->gensim) (2018.4.16)\n",
            "Requirement already satisfied, skipping upgrade: chardet<3.1.0,>=3.0.2 in /usr/local/lib/python2.7/dist-packages (from requests->smart-open>=1.2.1->gensim) (3.0.4)\n",
            "Requirement already satisfied, skipping upgrade: jmespath<1.0.0,>=0.7.1 in /usr/local/lib/python2.7/dist-packages (from boto3->smart-open>=1.2.1->gensim) (0.9.3)\n",
            "Requirement already satisfied, skipping upgrade: botocore<1.11.0,>=1.10.68 in /usr/local/lib/python2.7/dist-packages (from boto3->smart-open>=1.2.1->gensim) (1.10.68)\n",
            "Requirement already satisfied, skipping upgrade: s3transfer<0.2.0,>=0.1.10 in /usr/local/lib/python2.7/dist-packages (from boto3->smart-open>=1.2.1->gensim) (0.1.13)\n",
            "Requirement already satisfied, skipping upgrade: docutils>=0.10 in /usr/local/lib/python2.7/dist-packages (from botocore<1.11.0,>=1.10.68->boto3->smart-open>=1.2.1->gensim) (0.14)\n",
            "Requirement already satisfied, skipping upgrade: python-dateutil<3.0.0,>=2.1; python_version >= \"2.7\" in /usr/local/lib/python2.7/dist-packages (from botocore<1.11.0,>=1.10.68->boto3->smart-open>=1.2.1->gensim) (2.5.3)\n",
            "Requirement already satisfied, skipping upgrade: futures<4.0.0,>=2.2.0; python_version == \"2.6\" or python_version == \"2.7\" in /usr/local/lib/python2.7/dist-packages (from s3transfer<0.2.0,>=0.1.10->boto3->smart-open>=1.2.1->gensim) (3.2.0)\n"
          ],
          "name": "stdout"
        }
      ]
    },
    {
      "metadata": {
        "id": "1zUsbg4Qsnzs",
        "colab_type": "code",
        "colab": {}
      },
      "cell_type": "code",
      "source": [
        "### authentication -- run once \n",
        "from pydrive.auth import GoogleAuth\n",
        "from pydrive.drive import GoogleDrive\n",
        "from google.colab import auth\n",
        "from oauth2client.client import GoogleCredentials\n",
        " \n",
        "# 1. Authenticate and create the PyDrive client.\n",
        "auth.authenticate_user()\n",
        "gauth = GoogleAuth()\n",
        "gauth.credentials = GoogleCredentials.get_application_default()\n",
        "drive = GoogleDrive(gauth)\n"
      ],
      "execution_count": 0,
      "outputs": []
    },
    {
      "metadata": {
        "id": "ZMJr_Ey3szzw",
        "colab_type": "code",
        "colab": {
          "base_uri": "https://localhost:8080/",
          "height": 293
        },
        "outputId": "5ceaf765-7785-4397-fafe-24fc64d60a48"
      },
      "cell_type": "code",
      "source": [
        "### lists the files in the folder \n",
        "file_list = drive.ListFile({'q': \"'18sX8Dymv_AAEaY7mJxbmh_LjljD8oRwK' in parents and trashed=false\"}).GetList() ## long string in the url of folder\n",
        "for file1 in file_list:\n",
        "  print('title: %s, id: %s' % (file1['title'], file1['id']))"
      ],
      "execution_count": 0,
      "outputs": [
        {
          "output_type": "stream",
          "text": [
            "title: Data_2000_2, id: 1sIgmLvS0iJUgxvjKLBjwSQHoY9P-YsyL\n",
            "title: data_3200.csv, id: 1jOH6hepK10-rdzxv0k6A3_svS4H9T48H\n",
            "title: Data Vector CLEAN, id: 1uCZsgzLhptTs56JNz_C4lbrbLQvFOAwW\n",
            "title: Data_2000_1, id: 11fiGbqwp_ekLtPBhuVkjYO3-1RWWr91Y\n",
            "title: bully_victim1.csv, id: 1ngNQ_sLWIAnN7scAxJl4-y8QZB_soeTQ\n",
            "title: bully_victim.csv, id: 1qud97IBO3rkLkmDJTi-Y8U--waH7v6tb\n",
            "title: data_categorical_multi.csv, id: 10qfXUcLUW4GPBM1ra3_cRBpnW9ltQEh-\n",
            "title: data_categorical_binary.csv, id: 1Mn0cT-De4mq-9gJ7J2s201jvZQ1bWNGK\n",
            "title: formatted, id: 1cuN_xbf0pz7t1TY6t8vskoVa6SXXWQK7\n",
            "title: glove.6B.100d.txt, id: 1-FOMH_1xZcjtYo1uW3_2BwozqHFC-dZb\n",
            "title: Data WITH b', id: 1yDewPt327TxTrKCvuCIpHNyigDMaKPyv\n",
            "title: glove.6B.zip, id: 1tuFKpS8F1lhnaemAYi_w498Vli6WGuKP\n",
            "title: data_tweet_clean_500_stop.csv, id: 1bUddQJ0LejpEROhpWmMtYYSoXvR2q4pc\n",
            "title: Data Cleaning, id: 1JsVnP9kago0ipdSqtX7txLQWMTwSPZ3X\n",
            "title: data_Tweet_clean.csv, id: 1FNa4-dHR6aEeunRIwMnaBBacSlCHZOsW\n",
            "title: Medication_1, id: 1yvcgD5F6on7s9gwS56GWajZNPtvYg_4H\n",
            "title: Twitter_Neg_Pos, id: 1-SvbE_55FqDfqtp588p3HvcojmREUOWc\n"
          ],
          "name": "stdout"
        }
      ]
    },
    {
      "metadata": {
        "id": "HUa81WZos2_u",
        "colab_type": "code",
        "colab": {}
      },
      "cell_type": "code",
      "source": [
        "### download the file \n",
        "\n",
        "\n",
        "file_downloaded = drive.CreateFile({'id': '1-FOMH_1xZcjtYo1uW3_2BwozqHFC-dZb'})\n",
        "file_downloaded.GetContentFile('glove.6B.100d.txt')\n",
        "\n",
        "#type(df_data['Text'][0])"
      ],
      "execution_count": 0,
      "outputs": []
    },
    {
      "metadata": {
        "id": "UEahtxMD5hd4",
        "colab_type": "code",
        "colab": {}
      },
      "cell_type": "code",
      "source": [
        "import pickle\n",
        "\n",
        "data_file= ('glove.6B.100d.txt')\n",
        "pickle.dump( data_file, open( \"save.p\", \"wb\" ) )\n",
        "\n",
        "data_file = pickle.load( open( \"save.p\", \"rb\" ) )"
      ],
      "execution_count": 0,
      "outputs": []
    },
    {
      "metadata": {
        "id": "k7NiX6_1jxvr",
        "colab_type": "code",
        "colab": {
          "base_uri": "https://localhost:8080/",
          "height": 33
        },
        "outputId": "6eb66f07-9b18-4e27-aad7-61847a46d3b0"
      },
      "cell_type": "code",
      "source": [
        "import gensim\n",
        "\n",
        "\n",
        "from gensim.scripts.glove2word2vec import glove2word2vec\n",
        "glove_input_file = 'glove.6B.100d.txt'\n",
        "word2vec_output_file = 'glove.6B.100d.txt.word2vec'\n",
        "glove2word2vec(glove_input_file, word2vec_output_file)\n"
      ],
      "execution_count": 0,
      "outputs": [
        {
          "output_type": "execute_result",
          "data": {
            "text/plain": [
              "(400000, 100)"
            ]
          },
          "metadata": {
            "tags": []
          },
          "execution_count": 92
        }
      ]
    },
    {
      "metadata": {
        "id": "kLA_EiFZyVW3",
        "colab_type": "code",
        "colab": {
          "base_uri": "https://localhost:8080/",
          "height": 33
        },
        "outputId": "da78721e-86b1-4fcd-a46d-837600177986"
      },
      "cell_type": "code",
      "source": [
        "\n",
        "\n",
        "from gensim.models import KeyedVectors\n",
        "from gensim import models\n",
        "from gensim.models import Word2Vec, KeyedVectors\n",
        "\n",
        "\n",
        "# load the Stanford GloVe model\n",
        "filename = 'glove.6B.100d.txt.word2vec'\n",
        "\n",
        "\n",
        "kv = KeyedVectors.load_word2vec_format(filename, binary=False)\n",
        "# calculate: (king - man) + woman = ?\n",
        "result = kv.most_similar(positive=['woman', 'king'], negative=['man'], topn=1)\n",
        "print(result)"
      ],
      "execution_count": 0,
      "outputs": [
        {
          "output_type": "stream",
          "text": [
            "[(u'queen', 0.7698541283607483)]\n"
          ],
          "name": "stdout"
        }
      ]
    },
    {
      "metadata": {
        "id": "mCbmr38oX7dZ",
        "colab_type": "code",
        "colab": {
          "base_uri": "https://localhost:8080/",
          "height": 358
        },
        "outputId": "3d1e8094-c9c9-4ace-8d7b-3dd262da424b"
      },
      "cell_type": "code",
      "source": [
        "kv['bully']"
      ],
      "execution_count": 0,
      "outputs": [
        {
          "output_type": "execute_result",
          "data": {
            "text/plain": [
              "array([ 0.46402  ,  0.33489  ,  0.71472  , -0.40918  , -1.1902   ,\n",
              "        0.84827  , -0.66481  , -0.46921  ,  0.55256  ,  0.23158  ,\n",
              "       -0.55591  , -0.61517  , -0.27387  , -0.0041352,  0.18803  ,\n",
              "        0.77771  , -0.015384 ,  0.31946  , -0.49973  ,  0.3949   ,\n",
              "        0.2143   ,  0.098468 ,  0.16711  , -0.46618  ,  0.098281 ,\n",
              "        0.52806  , -0.70858  , -0.072936 , -0.16317  ,  0.78392  ,\n",
              "        0.73704  ,  0.56865  ,  0.53089  ,  0.55465  ,  0.58625  ,\n",
              "        0.5025   , -0.65786  , -0.65226  ,  0.4872   , -0.15267  ,\n",
              "       -0.91033  ,  0.053135 , -0.41061  , -0.51095  , -0.36981  ,\n",
              "        0.19363  ,  0.14067  ,  0.039983 , -0.21934  , -0.18373  ,\n",
              "       -1.5105   , -0.025053 , -0.40377  ,  0.59923  ,  0.050316 ,\n",
              "       -0.89414  , -0.15657  , -0.2641   , -0.47892  , -0.72455  ,\n",
              "        0.061247 , -0.01786  , -0.1041   ,  0.20226  ,  0.14936  ,\n",
              "       -0.57338  ,  0.41051  ,  0.25484  ,  0.22755  ,  0.21723  ,\n",
              "       -0.073985 , -0.41368  , -0.42756  , -0.50512  , -0.63088  ,\n",
              "       -0.27038  , -0.13968  ,  0.11759  ,  0.26629  ,  0.40041  ,\n",
              "        0.27406  , -0.18907  , -0.62995  , -0.11226  , -0.48665  ,\n",
              "        0.39752  , -0.50442  ,  0.42547  ,  0.28025  , -0.63727  ,\n",
              "       -0.23149  ,  0.74948  , -0.071318 , -0.087876 ,  0.53513  ,\n",
              "       -0.85531  , -0.17257  , -0.27674  ,  0.36399  ,  0.080778 ],\n",
              "      dtype=float32)"
            ]
          },
          "metadata": {
            "tags": []
          },
          "execution_count": 94
        }
      ]
    },
    {
      "metadata": {
        "id": "-d_1fh9XyyuA",
        "colab_type": "code",
        "colab": {}
      },
      "cell_type": "code",
      "source": [
        "### creating the array for the vectors\n",
        "#to_Vec has the big data of words\n",
        "to_Vec = np.zeros((df_data.shape[0], 31, 100))\n",
        "\n",
        "for i in range(df_data.shape[0]):\n",
        "  s = df_data['Text'][i]\n",
        "  words = s.split()\n",
        "  \n",
        "  npArr = np.zeros((31, 100)) ## shape of the numpy \n",
        "  for j in range(len(words)):\n",
        "    npArr[j] = kv[words[j]]\n",
        "  to_Vec[i] = npArr"
      ],
      "execution_count": 0,
      "outputs": []
    },
    {
      "metadata": {
        "id": "WqD7Yj2fWsuN",
        "colab_type": "code",
        "colab": {}
      },
      "cell_type": "code",
      "source": [
        "#model.build_vocab([[\"bully\", \"world\"]], update=True)\n",
        "\n",
        "#model.train([[\"hello\", \"world\"]], total_examples=1, epochs=1)"
      ],
      "execution_count": 0,
      "outputs": []
    },
    {
      "metadata": {
        "id": "7HPEbS4K6bc-",
        "colab_type": "code",
        "colab": {}
      },
      "cell_type": "code",
      "source": [
        "#sentences = X_train\n",
        "#print(type(Word2Vec))\n",
        "#model_2= Word2Vec(\"data_2000_1.csv\")\n",
        "#logging.basicConfig(format='%(asctime)s : %(levelname)s : %(message)s', level=logging.INFO)\n",
        "#model_2= word2vec.Word2Vec(sentences, iter=10, min_count=10, size=300, workers=4)"
      ],
      "execution_count": 0,
      "outputs": []
    },
    {
      "metadata": {
        "id": "xak3hrwfRddV",
        "colab_type": "code",
        "colab": {}
      },
      "cell_type": "code",
      "source": [
        "#### Initialize a model\n",
        "from gensim.test.utils import common_texts, get_tmpfile\n",
        "from gensim.models import Word2Vec\n",
        "\n",
        "path = get_tmpfile(\"word2vec.model\")\n",
        "model = Word2Vec(common_texts, size=100, window=5, min_count=1, workers=4)\n",
        "model.save(\"word2vec.model\")"
      ],
      "execution_count": 0,
      "outputs": []
    },
    {
      "metadata": {
        "id": "kKHkG7wmSCa5",
        "colab_type": "code",
        "colab": {
          "base_uri": "https://localhost:8080/",
          "height": 33
        },
        "outputId": "50eb9201-120c-42f5-ffc1-5ed8bf62e0c6"
      },
      "cell_type": "code",
      "source": [
        "### It also means you can continue training the model later\n",
        "\n",
        "model = Word2Vec.load(\"word2vec.model\")\n",
        "\n",
        "model.build_vocab([[\"bully\", \"world\"]], update=True)\n",
        "\n",
        "model.train([[\"hello\", \"world\"]], total_examples=1, epochs=1)"
      ],
      "execution_count": 0,
      "outputs": [
        {
          "output_type": "execute_result",
          "data": {
            "text/plain": [
              "(0, 2)"
            ]
          },
          "metadata": {
            "tags": []
          },
          "execution_count": 99
        }
      ]
    },
    {
      "metadata": {
        "id": "p_tjeKSmSzLd",
        "colab_type": "code",
        "colab": {
          "base_uri": "https://localhost:8080/",
          "height": 358
        },
        "outputId": "02ecabd4-630c-42c9-c25d-1a59b02e3732"
      },
      "cell_type": "code",
      "source": [
        "vector = model.wv['bully']\n",
        "vector"
      ],
      "execution_count": 0,
      "outputs": [
        {
          "output_type": "execute_result",
          "data": {
            "text/plain": [
              "array([ 0.00190809,  0.00408922,  0.00077869,  0.00173799,  0.00405161,\n",
              "       -0.00015257,  0.00288971, -0.00145882, -0.00368313, -0.00176414,\n",
              "        0.00425356, -0.00087996, -0.00272697,  0.00360487,  0.00109072,\n",
              "       -0.00482104, -0.00325567,  0.00233259, -0.00420405, -0.00342001,\n",
              "       -0.00442091,  0.00315547, -0.00417632, -0.0026977 , -0.00266447,\n",
              "       -0.00041663, -0.00160667, -0.00334739, -0.00357138,  0.00494552,\n",
              "        0.00424215, -0.00432753,  0.00187922, -0.00434171, -0.00300552,\n",
              "       -0.00209886,  0.003476  ,  0.00078988,  0.00154017,  0.004165  ,\n",
              "        0.00360895,  0.00157731,  0.00286988,  0.00141052,  0.00241883,\n",
              "        0.00387185,  0.00014089, -0.00196018, -0.00360881,  0.00061325,\n",
              "        0.00450235, -0.00490358,  0.00483352,  0.0030051 , -0.00323944,\n",
              "        0.00016441,  0.00372752, -0.00208207,  0.00022257, -0.00417535,\n",
              "        0.00083439,  0.00046077,  0.0033144 ,  0.00120572,  0.0042862 ,\n",
              "        0.00101308,  0.00160899,  0.00379932,  0.00318086,  0.00019748,\n",
              "        0.00082069,  0.00368585, -0.00148193, -0.00224748, -0.00495705,\n",
              "        0.00492381,  0.00049827, -0.00278006,  0.00297105,  0.00268178,\n",
              "        0.00062928,  0.0028501 , -0.00093557,  0.00339127,  0.00458408,\n",
              "       -0.00084561,  0.0027004 ,  0.00434509, -0.0037551 ,  0.00110465,\n",
              "       -0.00486215,  0.00166118, -0.0038851 ,  0.00137692, -0.00493395,\n",
              "        0.00043193,  0.00349635,  0.00341066, -0.00481184,  0.00331874],\n",
              "      dtype=float32)"
            ]
          },
          "metadata": {
            "tags": []
          },
          "execution_count": 100
        }
      ]
    },
    {
      "metadata": {
        "id": "4o5NZv7f8ncM",
        "colab_type": "code",
        "colab": {
          "base_uri": "https://localhost:8080/",
          "height": 33
        },
        "outputId": "9d271393-4f43-4a61-a636-8822de366a7b"
      },
      "cell_type": "code",
      "source": [
        "data_train['Text'].shape"
      ],
      "execution_count": 0,
      "outputs": [
        {
          "output_type": "execute_result",
          "data": {
            "text/plain": [
              "(2080,)"
            ]
          },
          "metadata": {
            "tags": []
          },
          "execution_count": 101
        }
      ]
    },
    {
      "metadata": {
        "id": "TJ8Xxa-kuI7P",
        "colab_type": "text"
      },
      "cell_type": "markdown",
      "source": [
        "# **CNN**"
      ]
    },
    {
      "metadata": {
        "id": "uENaL4yVxRay",
        "colab_type": "code",
        "colab": {}
      },
      "cell_type": "code",
      "source": [
        "##train and test split\n",
        "x_train1, x_test, y_train1, y_test = train_test_split(to_Vec, data_train['Bullying_Traces?'], test_size = 0.2)\n",
        "#X_train\n"
      ],
      "execution_count": 0,
      "outputs": []
    },
    {
      "metadata": {
        "id": "5TTP4SO970_A",
        "colab_type": "code",
        "colab": {}
      },
      "cell_type": "code",
      "source": [
        "x_train, x_val, y_train, y_val = train_test_split(x_train1, y_train1, test_size = 0.2)"
      ],
      "execution_count": 0,
      "outputs": []
    },
    {
      "metadata": {
        "id": "AWza_AlcDVfX",
        "colab_type": "code",
        "colab": {}
      },
      "cell_type": "code",
      "source": [
        "#from  sklearn.cross_validationsklearn  import train_test_split\n",
        "from sklearn.model_selection import train_test_split\n",
        "SEED = 2000\n",
        "\n",
        "\n",
        "\n",
        "#X_train, X_validation_and_test, y_train, y_validation_and_test = train_test_split(X, y, test_size=.02, random_state=SEED)\n",
        "#X_validation, X_test, y_validation, y_test = train_test_split(x_validation_and_test, y_validation_and_test, test_size=.5, random_state=SEED)"
      ],
      "execution_count": 0,
      "outputs": []
    },
    {
      "metadata": {
        "id": "sgvu1aFS3_hc",
        "colab_type": "code",
        "colab": {}
      },
      "cell_type": "code",
      "source": [
        "\n",
        "import os\n",
        "import sys\n",
        "import numpy as np\n",
        "from keras.preprocessing.text import Tokenizer\n",
        "from keras.preprocessing.sequence import pad_sequences\n",
        "from keras.utils import to_categorical\n",
        "from keras.layers import Dense, Input, GlobalMaxPooling1D\n",
        "from keras.layers import Conv1D, MaxPooling1D, Embedding\n",
        "from keras.models import Model\n",
        "from keras.initializers import Constant\n"
      ],
      "execution_count": 0,
      "outputs": []
    },
    {
      "metadata": {
        "id": "XfoTO4PH-dGe",
        "colab_type": "code",
        "colab": {}
      },
      "cell_type": "code",
      "source": [
        "# # from keras.preprocessing.text import Tokenizer\n",
        "# from keras.preprocessing.sequence import pad_sequences\n",
        "# tokenizer = Tokenizer(num_words=100000)\n",
        "# tokenizer.fit_on_texts(x_train)\n",
        "# sequences = tokenizer.texts_to_sequences(x_train)"
      ],
      "execution_count": 0,
      "outputs": []
    },
    {
      "metadata": {
        "id": "M6bgS4dMuMXw",
        "colab_type": "code",
        "colab": {
          "base_uri": "https://localhost:8080/",
          "height": 53
        },
        "outputId": "68ef3284-4ac7-4fab-bc10-086a34ded7ec"
      },
      "cell_type": "code",
      "source": [
        "'''''BASE_DIR = ''\n",
        "GLOVE_DIR = os.path.join(BASE_DIR, 'glove.6B')\n",
        "TEXT_DATA_DIR = os.path.join(BASE_DIR, 'data_2000_1')\n",
        "MAX_SEQUENCE_LENGTH = 1000\n",
        "MAX_NUM_WORDS = 2000\n",
        "EMBEDDING_DIM = 100\n",
        "# finally, vectorize the text samples into a 2D integer tensor\n",
        "tokenizer = Tokenizer(num_words=MAX_NUM_WORDS)\n",
        "tokenizer.fit_on_texts(texts)\n",
        "sequences = tokenizer.texts_to_sequences(texts)\n",
        "\n",
        "word_index = tokenizer.word_index\n",
        "print('Found %s unique tokens.' % len(word_index))\n",
        "\n",
        "data = pad_sequences(sequences, maxlen=MAX_SEQUENCE_LENGTH)\n",
        "\n",
        "        \n",
        "# finally, vectorize the text samples into a 2D integer tensor\n",
        "tokenizer = Tokenizer(num_words=MAX_NUM_WORDS)\n",
        "tokenizer.fit_on_texts(texts)\n",
        "sequences = tokenizer.texts_to_sequences(texts)\n",
        "\n",
        "word_index = tokenizer.word_index\n",
        "print('Found %s unique tokens.' % len(word_index))\n",
        "\n",
        "data = pad_sequences(sequences, maxlen=MAX_SEQUENCE_LENGTH)\n",
        "\n",
        "\n",
        "\n",
        "\n",
        "# train a 1D convnet with global maxpooling\n",
        "sequence_input = Input(shape=(MAX_SEQUENCE_LENGTH,), dtype='int32')\n",
        "embedded_sequences = embedding_layer(sequence_input)\n",
        "x = Conv1D(128, 5, activation='relu')(embedded_sequences)\n",
        "x = MaxPooling1D(5)(x)\n",
        "x = Conv1D(128, 5, activation='relu')(x)\n",
        "x = MaxPooling1D(5)(x)\n",
        "x = Conv1D(128, 5, activation='relu')(x)\n",
        "x = GlobalMaxPooling1D()(x)\n",
        "x = Dense(128, activation='relu')(x)\n",
        "preds = Dense(len(labels_index), activation='softmax')(x)\n",
        "\n",
        "model = Model(sequence_input, preds)\n",
        "model.compile(loss='categorical_crossentropy',\n",
        "              optimizer='rmsprop',\n",
        "              metrics=['acc'])\n",
        "\n",
        "model.fit(x_train, y_train,\n",
        "          batch_size=128,\n",
        "          epochs=10,\n",
        "          validation_data=(x_val, y_val))\n",
        "  '''"
      ],
      "execution_count": 0,
      "outputs": [
        {
          "output_type": "execute_result",
          "data": {
            "text/plain": [
              "\"''BASE_DIR = ''\\nGLOVE_DIR = os.path.join(BASE_DIR, 'glove.6B')\\nTEXT_DATA_DIR = os.path.join(BASE_DIR, 'data_2000_1')\\nMAX_SEQUENCE_LENGTH = 1000\\nMAX_NUM_WORDS = 2000\\nEMBEDDING_DIM = 100\\n# finally, vectorize the text samples into a 2D integer tensor\\ntokenizer = Tokenizer(num_words=MAX_NUM_WORDS)\\ntokenizer.fit_on_texts(texts)\\nsequences = tokenizer.texts_to_sequences(texts)\\n\\nword_index = tokenizer.word_index\\nprint('Found %s unique tokens.' % len(word_index))\\n\\ndata = pad_sequences(sequences, maxlen=MAX_SEQUENCE_LENGTH)\\n\\n        \\n# finally, vectorize the text samples into a 2D integer tensor\\ntokenizer = Tokenizer(num_words=MAX_NUM_WORDS)\\ntokenizer.fit_on_texts(texts)\\nsequences = tokenizer.texts_to_sequences(texts)\\n\\nword_index = tokenizer.word_index\\nprint('Found %s unique tokens.' % len(word_index))\\n\\ndata = pad_sequences(sequences, maxlen=MAX_SEQUENCE_LENGTH)\\n\\n\\n\\n\\n# train a 1D convnet with global maxpooling\\nsequence_input = Input(shape=(MAX_SEQUENCE_LENGTH,), dtype='int32')\\nembedded_sequences = embedding_layer(sequence_input)\\nx = Conv1D(128, 5, activation='relu')(embedded_sequences)\\nx = MaxPooling1D(5)(x)\\nx = Conv1D(128, 5, activation='relu')(x)\\nx = MaxPooling1D(5)(x)\\nx = Conv1D(128, 5, activation='relu')(x)\\nx = GlobalMaxPooling1D()(x)\\nx = Dense(128, activation='relu')(x)\\npreds = Dense(len(labels_index), activation='softmax')(x)\\n\\nmodel = Model(sequence_input, preds)\\nmodel.compile(loss='categorical_crossentropy',\\n              optimizer='rmsprop',\\n              metrics=['acc'])\\n\\nmodel.fit(x_train, y_train,\\n          batch_size=128,\\n          epochs=10,\\n          validation_data=(x_val, y_val))\\n  \""
            ]
          },
          "metadata": {
            "tags": []
          },
          "execution_count": 107
        }
      ]
    },
    {
      "metadata": {
        "id": "copSb-rbrXx4",
        "colab_type": "code",
        "colab": {
          "base_uri": "https://localhost:8080/",
          "height": 391
        },
        "outputId": "7a52ac84-b5ed-469b-ac21-cedabfd27bdb"
      },
      "cell_type": "code",
      "source": [
        "kv.wv['bully']"
      ],
      "execution_count": 0,
      "outputs": [
        {
          "output_type": "stream",
          "text": [
            "/usr/local/lib/python2.7/dist-packages/ipykernel_launcher.py:1: DeprecationWarning: Call to deprecated `wv` (Attribute will be removed in 4.0.0, use self instead).\n",
            "  \"\"\"Entry point for launching an IPython kernel.\n"
          ],
          "name": "stderr"
        },
        {
          "output_type": "execute_result",
          "data": {
            "text/plain": [
              "array([ 0.46402  ,  0.33489  ,  0.71472  , -0.40918  , -1.1902   ,\n",
              "        0.84827  , -0.66481  , -0.46921  ,  0.55256  ,  0.23158  ,\n",
              "       -0.55591  , -0.61517  , -0.27387  , -0.0041352,  0.18803  ,\n",
              "        0.77771  , -0.015384 ,  0.31946  , -0.49973  ,  0.3949   ,\n",
              "        0.2143   ,  0.098468 ,  0.16711  , -0.46618  ,  0.098281 ,\n",
              "        0.52806  , -0.70858  , -0.072936 , -0.16317  ,  0.78392  ,\n",
              "        0.73704  ,  0.56865  ,  0.53089  ,  0.55465  ,  0.58625  ,\n",
              "        0.5025   , -0.65786  , -0.65226  ,  0.4872   , -0.15267  ,\n",
              "       -0.91033  ,  0.053135 , -0.41061  , -0.51095  , -0.36981  ,\n",
              "        0.19363  ,  0.14067  ,  0.039983 , -0.21934  , -0.18373  ,\n",
              "       -1.5105   , -0.025053 , -0.40377  ,  0.59923  ,  0.050316 ,\n",
              "       -0.89414  , -0.15657  , -0.2641   , -0.47892  , -0.72455  ,\n",
              "        0.061247 , -0.01786  , -0.1041   ,  0.20226  ,  0.14936  ,\n",
              "       -0.57338  ,  0.41051  ,  0.25484  ,  0.22755  ,  0.21723  ,\n",
              "       -0.073985 , -0.41368  , -0.42756  , -0.50512  , -0.63088  ,\n",
              "       -0.27038  , -0.13968  ,  0.11759  ,  0.26629  ,  0.40041  ,\n",
              "        0.27406  , -0.18907  , -0.62995  , -0.11226  , -0.48665  ,\n",
              "        0.39752  , -0.50442  ,  0.42547  ,  0.28025  , -0.63727  ,\n",
              "       -0.23149  ,  0.74948  , -0.071318 , -0.087876 ,  0.53513  ,\n",
              "       -0.85531  , -0.17257  , -0.27674  ,  0.36399  ,  0.080778 ],\n",
              "      dtype=float32)"
            ]
          },
          "metadata": {
            "tags": []
          },
          "execution_count": 108
        }
      ]
    },
    {
      "metadata": {
        "id": "f8_tvkd2_1H9",
        "colab_type": "code",
        "colab": {}
      },
      "cell_type": "code",
      "source": [
        "from keras.models import Sequential\n",
        "\n",
        "clf = Sequential()\n",
        "clf.add(Conv1D(filters=100, kernel_size=2, padding='valid', activation='relu', input_shape=x_train.shape[1:], strides=1))\n",
        "clf.add(GlobalMaxPooling1D())\n",
        "clf.add(Dense(256, activation='relu'))\n",
        "clf.add(Dense(256, activation='sigmoid'))\n",
        "clf.add(Dense(2, activation='softmax'))\n",
        "clf.compile(loss='binary_crossentropy', optimizer='adam', metrics=['accuracy'])\n",
        "# clf.fit(x_train, y_train, validation_data=(x_val, y_val), epochs=5, batch_size=32, verbose=2)\n",
        "\n",
        "\n"
      ],
      "execution_count": 0,
      "outputs": []
    },
    {
      "metadata": {
        "id": "z-1qjY8BRNIO",
        "colab_type": "code",
        "colab": {}
      },
      "cell_type": "code",
      "source": [
        "from tensorflow.keras.utils import to_categorical\n",
        "\n",
        "y_val1 = to_categorical(y_val)\n",
        "y_train1 = to_categorical(y_train)\n",
        "y_test1 = to_categorical(y_test)"
      ],
      "execution_count": 0,
      "outputs": []
    },
    {
      "metadata": {
        "id": "2irKjnFE8kD3",
        "colab_type": "code",
        "colab": {
          "base_uri": "https://localhost:8080/",
          "height": 3283
        },
        "outputId": "6dd16772-0023-434d-d980-6cb90dc52585"
      },
      "cell_type": "code",
      "source": [
        "history = clf.fit(x_train, y_train1, validation_data=(x_val, y_val1), epochs=100, batch_size=32, verbose=2)"
      ],
      "execution_count": 0,
      "outputs": [
        {
          "output_type": "stream",
          "text": [
            "Train on 1331 samples, validate on 333 samples\n",
            "Epoch 1/100\n",
            " - 1s - loss: 0.0024 - acc: 0.9985 - val_loss: 0.8764 - val_acc: 0.8348\n",
            "Epoch 2/100\n",
            " - 1s - loss: 0.0027 - acc: 0.9985 - val_loss: 0.9714 - val_acc: 0.8258\n",
            "Epoch 3/100\n",
            " - 1s - loss: 0.0025 - acc: 0.9977 - val_loss: 0.9933 - val_acc: 0.8288\n",
            "Epoch 4/100\n",
            " - 1s - loss: 0.0024 - acc: 0.9970 - val_loss: 0.9736 - val_acc: 0.8198\n",
            "Epoch 5/100\n",
            " - 1s - loss: 0.0024 - acc: 0.9985 - val_loss: 0.9133 - val_acc: 0.8348\n",
            "Epoch 6/100\n",
            " - 1s - loss: 0.0029 - acc: 0.9970 - val_loss: 0.9026 - val_acc: 0.8348\n",
            "Epoch 7/100\n",
            " - 1s - loss: 0.0024 - acc: 0.9985 - val_loss: 0.9992 - val_acc: 0.8288\n",
            "Epoch 8/100\n",
            " - 1s - loss: 0.0023 - acc: 0.9977 - val_loss: 0.9561 - val_acc: 0.8318\n",
            "Epoch 9/100\n",
            " - 1s - loss: 0.0025 - acc: 0.9985 - val_loss: 0.9207 - val_acc: 0.8348\n",
            "Epoch 10/100\n",
            " - 1s - loss: 0.0023 - acc: 0.9977 - val_loss: 0.9707 - val_acc: 0.8288\n",
            "Epoch 11/100\n",
            " - 1s - loss: 0.0023 - acc: 0.9985 - val_loss: 0.9949 - val_acc: 0.8258\n",
            "Epoch 12/100\n",
            " - 1s - loss: 0.0031 - acc: 0.9977 - val_loss: 0.9130 - val_acc: 0.8348\n",
            "Epoch 13/100\n",
            " - 1s - loss: 0.0027 - acc: 0.9970 - val_loss: 0.9640 - val_acc: 0.8318\n",
            "Epoch 14/100\n",
            " - 1s - loss: 0.0023 - acc: 0.9985 - val_loss: 1.0271 - val_acc: 0.8258\n",
            "Epoch 15/100\n",
            " - 1s - loss: 0.0024 - acc: 0.9977 - val_loss: 0.9704 - val_acc: 0.8348\n",
            "Epoch 16/100\n",
            " - 1s - loss: 0.0026 - acc: 0.9985 - val_loss: 1.0578 - val_acc: 0.8258\n",
            "Epoch 17/100\n",
            " - 1s - loss: 0.0022 - acc: 0.9985 - val_loss: 1.0200 - val_acc: 0.8258\n",
            "Epoch 18/100\n",
            " - 1s - loss: 0.0024 - acc: 0.9985 - val_loss: 1.0770 - val_acc: 0.8258\n",
            "Epoch 19/100\n",
            " - 1s - loss: 0.0024 - acc: 0.9977 - val_loss: 1.0021 - val_acc: 0.8348\n",
            "Epoch 20/100\n",
            " - 1s - loss: 0.0021 - acc: 0.9985 - val_loss: 1.0340 - val_acc: 0.8228\n",
            "Epoch 21/100\n",
            " - 1s - loss: 0.0024 - acc: 0.9977 - val_loss: 1.0691 - val_acc: 0.8228\n",
            "Epoch 22/100\n",
            " - 1s - loss: 0.0027 - acc: 0.9977 - val_loss: 1.0383 - val_acc: 0.8258\n",
            "Epoch 23/100\n",
            " - 1s - loss: 0.0025 - acc: 0.9977 - val_loss: 1.0049 - val_acc: 0.8348\n",
            "Epoch 24/100\n",
            " - 1s - loss: 0.0022 - acc: 0.9985 - val_loss: 1.0714 - val_acc: 0.8288\n",
            "Epoch 25/100\n",
            " - 1s - loss: 0.0024 - acc: 0.9977 - val_loss: 1.0212 - val_acc: 0.8348\n",
            "Epoch 26/100\n",
            " - 1s - loss: 0.0022 - acc: 0.9985 - val_loss: 1.0748 - val_acc: 0.8288\n",
            "Epoch 27/100\n",
            " - 1s - loss: 0.0025 - acc: 0.9977 - val_loss: 1.0268 - val_acc: 0.8348\n",
            "Epoch 28/100\n",
            " - 1s - loss: 0.0022 - acc: 0.9977 - val_loss: 1.0657 - val_acc: 0.8258\n",
            "Epoch 29/100\n",
            " - 1s - loss: 0.0028 - acc: 0.9985 - val_loss: 1.1295 - val_acc: 0.8258\n",
            "Epoch 30/100\n",
            " - 1s - loss: 0.0028 - acc: 0.9970 - val_loss: 1.1248 - val_acc: 0.8228\n",
            "Epoch 31/100\n",
            " - 1s - loss: 0.0024 - acc: 0.9977 - val_loss: 1.0941 - val_acc: 0.8258\n",
            "Epoch 32/100\n",
            " - 1s - loss: 0.0023 - acc: 0.9985 - val_loss: 1.0605 - val_acc: 0.8348\n",
            "Epoch 33/100\n",
            " - 1s - loss: 0.0031 - acc: 0.9977 - val_loss: 1.1441 - val_acc: 0.8258\n",
            "Epoch 34/100\n"
          ],
          "name": "stdout"
        },
        {
          "output_type": "stream",
          "text": [
            " - 1s - loss: 0.0027 - acc: 0.9970 - val_loss: 1.1222 - val_acc: 0.8288\n",
            "Epoch 35/100\n",
            " - 1s - loss: 0.0023 - acc: 0.9977 - val_loss: 1.0688 - val_acc: 0.8318\n",
            "Epoch 36/100\n",
            " - 1s - loss: 0.0024 - acc: 0.9977 - val_loss: 1.0678 - val_acc: 0.8318\n",
            "Epoch 37/100\n",
            " - 1s - loss: 0.0025 - acc: 0.9977 - val_loss: 1.1556 - val_acc: 0.8258\n",
            "Epoch 38/100\n",
            " - 1s - loss: 0.0023 - acc: 0.9977 - val_loss: 1.0872 - val_acc: 0.8318\n",
            "Epoch 39/100\n",
            " - 1s - loss: 0.0024 - acc: 0.9970 - val_loss: 1.1030 - val_acc: 0.8288\n",
            "Epoch 40/100\n",
            " - 1s - loss: 0.0025 - acc: 0.9970 - val_loss: 1.1157 - val_acc: 0.8288\n",
            "Epoch 41/100\n",
            " - 1s - loss: 0.0025 - acc: 0.9977 - val_loss: 1.1750 - val_acc: 0.8228\n",
            "Epoch 42/100\n",
            " - 1s - loss: 0.0024 - acc: 0.9985 - val_loss: 1.0923 - val_acc: 0.8318\n",
            "Epoch 43/100\n",
            " - 1s - loss: 0.0022 - acc: 0.9977 - val_loss: 1.1424 - val_acc: 0.8288\n",
            "Epoch 44/100\n",
            " - 1s - loss: 0.0025 - acc: 0.9977 - val_loss: 1.1122 - val_acc: 0.8318\n",
            "Epoch 45/100\n",
            " - 1s - loss: 0.0024 - acc: 0.9977 - val_loss: 1.1811 - val_acc: 0.8228\n",
            "Epoch 46/100\n",
            " - 1s - loss: 0.0026 - acc: 0.9985 - val_loss: 1.0737 - val_acc: 0.8288\n",
            "Epoch 47/100\n",
            " - 1s - loss: 0.0022 - acc: 0.9985 - val_loss: 1.1934 - val_acc: 0.8258\n",
            "Epoch 48/100\n",
            " - 1s - loss: 0.0024 - acc: 0.9985 - val_loss: 1.1955 - val_acc: 0.8228\n",
            "Epoch 49/100\n",
            " - 1s - loss: 0.0028 - acc: 0.9970 - val_loss: 1.2459 - val_acc: 0.8228\n",
            "Epoch 50/100\n",
            " - 1s - loss: 0.0027 - acc: 0.9977 - val_loss: 1.1782 - val_acc: 0.8228\n",
            "Epoch 51/100\n",
            " - 1s - loss: 0.0023 - acc: 0.9977 - val_loss: 1.1768 - val_acc: 0.8228\n",
            "Epoch 52/100\n",
            " - 1s - loss: 0.0024 - acc: 0.9985 - val_loss: 1.1097 - val_acc: 0.8318\n",
            "Epoch 53/100\n",
            " - 1s - loss: 0.0024 - acc: 0.9970 - val_loss: 1.1256 - val_acc: 0.8288\n",
            "Epoch 54/100\n",
            " - 1s - loss: 0.0026 - acc: 0.9985 - val_loss: 1.2443 - val_acc: 0.8228\n",
            "Epoch 55/100\n",
            " - 1s - loss: 0.0028 - acc: 0.9977 - val_loss: 1.1532 - val_acc: 0.8318\n",
            "Epoch 56/100\n",
            " - 1s - loss: 0.0024 - acc: 0.9977 - val_loss: 1.1382 - val_acc: 0.8378\n",
            "Epoch 57/100\n",
            " - 1s - loss: 0.0023 - acc: 0.9977 - val_loss: 1.1733 - val_acc: 0.8258\n",
            "Epoch 58/100\n",
            " - 1s - loss: 0.0028 - acc: 0.9985 - val_loss: 1.2906 - val_acc: 0.8198\n",
            "Epoch 59/100\n",
            " - 1s - loss: 0.0028 - acc: 0.9977 - val_loss: 1.1951 - val_acc: 0.8318\n",
            "Epoch 60/100\n",
            " - 1s - loss: 0.0024 - acc: 0.9977 - val_loss: 1.2326 - val_acc: 0.8258\n",
            "Epoch 61/100\n",
            " - 1s - loss: 0.0026 - acc: 0.9977 - val_loss: 1.1794 - val_acc: 0.8288\n",
            "Epoch 62/100\n",
            " - 1s - loss: 0.0022 - acc: 0.9977 - val_loss: 1.1847 - val_acc: 0.8318\n",
            "Epoch 63/100\n",
            " - 1s - loss: 0.0024 - acc: 0.9985 - val_loss: 1.1624 - val_acc: 0.8228\n",
            "Epoch 64/100\n",
            " - 1s - loss: 0.0031 - acc: 0.9970 - val_loss: 1.3033 - val_acc: 0.8228\n",
            "Epoch 65/100\n",
            " - 1s - loss: 0.0024 - acc: 0.9977 - val_loss: 1.1985 - val_acc: 0.8288\n",
            "Epoch 66/100\n",
            " - 1s - loss: 0.0026 - acc: 0.9985 - val_loss: 1.2923 - val_acc: 0.8228\n",
            "Epoch 67/100\n",
            " - 1s - loss: 0.0023 - acc: 0.9977 - val_loss: 1.2030 - val_acc: 0.8258\n"
          ],
          "name": "stdout"
        },
        {
          "output_type": "stream",
          "text": [
            "Epoch 68/100\n",
            " - 1s - loss: 0.0025 - acc: 0.9970 - val_loss: 1.2238 - val_acc: 0.8228\n",
            "Epoch 69/100\n",
            " - 1s - loss: 0.0029 - acc: 0.9985 - val_loss: 1.1708 - val_acc: 0.8318\n",
            "Epoch 70/100\n",
            " - 1s - loss: 0.0023 - acc: 0.9985 - val_loss: 1.2462 - val_acc: 0.8288\n",
            "Epoch 71/100\n",
            " - 1s - loss: 0.0024 - acc: 0.9977 - val_loss: 1.2057 - val_acc: 0.8318\n",
            "Epoch 72/100\n",
            " - 1s - loss: 0.0023 - acc: 0.9977 - val_loss: 1.2225 - val_acc: 0.8288\n",
            "Epoch 73/100\n",
            " - 1s - loss: 0.0025 - acc: 0.9977 - val_loss: 1.2042 - val_acc: 0.8348\n",
            "Epoch 74/100\n",
            " - 1s - loss: 0.0026 - acc: 0.9977 - val_loss: 1.1736 - val_acc: 0.8318\n",
            "Epoch 75/100\n",
            " - 1s - loss: 0.0030 - acc: 0.9985 - val_loss: 1.3434 - val_acc: 0.8198\n",
            "Epoch 76/100\n",
            " - 1s - loss: 0.0025 - acc: 0.9977 - val_loss: 1.2146 - val_acc: 0.8348\n",
            "Epoch 77/100\n",
            " - 1s - loss: 0.0024 - acc: 0.9977 - val_loss: 1.2403 - val_acc: 0.8288\n",
            "Epoch 78/100\n",
            " - 1s - loss: 0.0024 - acc: 0.9985 - val_loss: 1.3073 - val_acc: 0.8228\n",
            "Epoch 79/100\n",
            " - 1s - loss: 0.0024 - acc: 0.9985 - val_loss: 1.1979 - val_acc: 0.8318\n",
            "Epoch 80/100\n",
            " - 1s - loss: 0.0022 - acc: 0.9977 - val_loss: 1.2704 - val_acc: 0.8258\n",
            "Epoch 81/100\n",
            " - 1s - loss: 0.0027 - acc: 0.9977 - val_loss: 1.2895 - val_acc: 0.8258\n",
            "Epoch 82/100\n",
            " - 1s - loss: 0.0022 - acc: 0.9985 - val_loss: 1.2407 - val_acc: 0.8318\n",
            "Epoch 83/100\n",
            " - 1s - loss: 0.0024 - acc: 0.9970 - val_loss: 1.2555 - val_acc: 0.8258\n",
            "Epoch 84/100\n",
            " - 1s - loss: 0.0022 - acc: 0.9985 - val_loss: 1.3049 - val_acc: 0.8288\n",
            "Epoch 85/100\n",
            " - 1s - loss: 0.0026 - acc: 0.9977 - val_loss: 1.2262 - val_acc: 0.8288\n",
            "Epoch 86/100\n",
            " - 1s - loss: 0.0027 - acc: 0.9985 - val_loss: 1.3788 - val_acc: 0.8228\n",
            "Epoch 87/100\n",
            " - 1s - loss: 0.0024 - acc: 0.9985 - val_loss: 1.2218 - val_acc: 0.8318\n",
            "Epoch 88/100\n",
            " - 1s - loss: 0.0028 - acc: 0.9977 - val_loss: 1.2838 - val_acc: 0.8288\n",
            "Epoch 89/100\n",
            " - 1s - loss: 0.0027 - acc: 0.9977 - val_loss: 1.3067 - val_acc: 0.8228\n",
            "Epoch 90/100\n",
            " - 1s - loss: 0.0023 - acc: 0.9985 - val_loss: 1.2451 - val_acc: 0.8318\n",
            "Epoch 91/100\n",
            " - 1s - loss: 0.0023 - acc: 0.9985 - val_loss: 1.3603 - val_acc: 0.8198\n",
            "Epoch 92/100\n",
            " - 1s - loss: 0.0024 - acc: 0.9985 - val_loss: 1.2473 - val_acc: 0.8348\n",
            "Epoch 93/100\n",
            " - 1s - loss: 0.0024 - acc: 0.9970 - val_loss: 1.2784 - val_acc: 0.8288\n",
            "Epoch 94/100\n",
            " - 1s - loss: 0.0020 - acc: 0.9992 - val_loss: 1.2994 - val_acc: 0.8258\n",
            "Epoch 95/100\n",
            " - 1s - loss: 0.0023 - acc: 0.9985 - val_loss: 1.3163 - val_acc: 0.8258\n",
            "Epoch 96/100\n",
            " - 1s - loss: 0.0025 - acc: 0.9985 - val_loss: 1.3316 - val_acc: 0.8258\n",
            "Epoch 97/100\n",
            " - 1s - loss: 0.0031 - acc: 0.9977 - val_loss: 1.4025 - val_acc: 0.8228\n",
            "Epoch 98/100\n",
            " - 1s - loss: 0.0032 - acc: 0.9985 - val_loss: 1.1986 - val_acc: 0.8318\n",
            "Epoch 99/100\n",
            " - 1s - loss: 0.0026 - acc: 0.9977 - val_loss: 1.2778 - val_acc: 0.8288\n",
            "Epoch 100/100\n",
            " - 1s - loss: 0.0026 - acc: 0.9970 - val_loss: 1.2945 - val_acc: 0.8258\n"
          ],
          "name": "stdout"
        }
      ]
    },
    {
      "metadata": {
        "id": "Z9CDQQ80M9gW",
        "colab_type": "code",
        "colab": {}
      },
      "cell_type": "code",
      "source": [
        "t = pd.Series.tolist(y_val)"
      ],
      "execution_count": 0,
      "outputs": []
    },
    {
      "metadata": {
        "id": "x0EAvP6Q_lYJ",
        "colab_type": "code",
        "colab": {}
      },
      "cell_type": "code",
      "source": [
        "y_pred = clf.predict_proba(x_val)"
      ],
      "execution_count": 0,
      "outputs": []
    },
    {
      "metadata": {
        "id": "8PBCeH0UO-59",
        "colab_type": "code",
        "colab": {
          "base_uri": "https://localhost:8080/",
          "height": 5428
        },
        "outputId": "73bd1270-3ab7-4a6e-e7b4-262493b7ffbe"
      },
      "cell_type": "code",
      "source": [
        "y_val_pred = [np.argmax(y) for y in y_pred]\n",
        "y_val_pred"
      ],
      "execution_count": 0,
      "outputs": [
        {
          "output_type": "execute_result",
          "data": {
            "text/plain": [
              "[0,\n",
              " 1,\n",
              " 1,\n",
              " 0,\n",
              " 0,\n",
              " 1,\n",
              " 0,\n",
              " 0,\n",
              " 0,\n",
              " 0,\n",
              " 0,\n",
              " 0,\n",
              " 0,\n",
              " 0,\n",
              " 0,\n",
              " 0,\n",
              " 1,\n",
              " 0,\n",
              " 0,\n",
              " 0,\n",
              " 0,\n",
              " 0,\n",
              " 0,\n",
              " 0,\n",
              " 0,\n",
              " 1,\n",
              " 0,\n",
              " 0,\n",
              " 1,\n",
              " 0,\n",
              " 0,\n",
              " 0,\n",
              " 0,\n",
              " 1,\n",
              " 1,\n",
              " 0,\n",
              " 0,\n",
              " 1,\n",
              " 0,\n",
              " 0,\n",
              " 0,\n",
              " 0,\n",
              " 0,\n",
              " 1,\n",
              " 0,\n",
              " 0,\n",
              " 0,\n",
              " 0,\n",
              " 0,\n",
              " 0,\n",
              " 0,\n",
              " 0,\n",
              " 0,\n",
              " 0,\n",
              " 0,\n",
              " 0,\n",
              " 0,\n",
              " 0,\n",
              " 0,\n",
              " 0,\n",
              " 0,\n",
              " 0,\n",
              " 0,\n",
              " 0,\n",
              " 1,\n",
              " 0,\n",
              " 0,\n",
              " 0,\n",
              " 0,\n",
              " 1,\n",
              " 0,\n",
              " 0,\n",
              " 0,\n",
              " 0,\n",
              " 0,\n",
              " 1,\n",
              " 0,\n",
              " 0,\n",
              " 0,\n",
              " 0,\n",
              " 0,\n",
              " 0,\n",
              " 1,\n",
              " 0,\n",
              " 0,\n",
              " 0,\n",
              " 0,\n",
              " 0,\n",
              " 0,\n",
              " 0,\n",
              " 0,\n",
              " 0,\n",
              " 0,\n",
              " 0,\n",
              " 0,\n",
              " 0,\n",
              " 0,\n",
              " 0,\n",
              " 0,\n",
              " 1,\n",
              " 1,\n",
              " 0,\n",
              " 0,\n",
              " 0,\n",
              " 1,\n",
              " 0,\n",
              " 0,\n",
              " 0,\n",
              " 1,\n",
              " 0,\n",
              " 0,\n",
              " 0,\n",
              " 1,\n",
              " 0,\n",
              " 0,\n",
              " 0,\n",
              " 0,\n",
              " 0,\n",
              " 0,\n",
              " 0,\n",
              " 0,\n",
              " 0,\n",
              " 0,\n",
              " 0,\n",
              " 0,\n",
              " 0,\n",
              " 0,\n",
              " 0,\n",
              " 0,\n",
              " 0,\n",
              " 0,\n",
              " 0,\n",
              " 0,\n",
              " 0,\n",
              " 0,\n",
              " 0,\n",
              " 0,\n",
              " 0,\n",
              " 0,\n",
              " 0,\n",
              " 0,\n",
              " 0,\n",
              " 0,\n",
              " 1,\n",
              " 0,\n",
              " 0,\n",
              " 0,\n",
              " 1,\n",
              " 0,\n",
              " 0,\n",
              " 0,\n",
              " 0,\n",
              " 0,\n",
              " 1,\n",
              " 1,\n",
              " 0,\n",
              " 0,\n",
              " 1,\n",
              " 0,\n",
              " 0,\n",
              " 1,\n",
              " 0,\n",
              " 0,\n",
              " 1,\n",
              " 0,\n",
              " 0,\n",
              " 0,\n",
              " 0,\n",
              " 0,\n",
              " 0,\n",
              " 0,\n",
              " 0,\n",
              " 0,\n",
              " 0,\n",
              " 0,\n",
              " 0,\n",
              " 0,\n",
              " 0,\n",
              " 1,\n",
              " 0,\n",
              " 0,\n",
              " 0,\n",
              " 0,\n",
              " 0,\n",
              " 1,\n",
              " 0,\n",
              " 0,\n",
              " 0,\n",
              " 0,\n",
              " 0,\n",
              " 0,\n",
              " 0,\n",
              " 1,\n",
              " 0,\n",
              " 0,\n",
              " 1,\n",
              " 0,\n",
              " 0,\n",
              " 0,\n",
              " 0,\n",
              " 1,\n",
              " 0,\n",
              " 0,\n",
              " 0,\n",
              " 1,\n",
              " 0,\n",
              " 0,\n",
              " 1,\n",
              " 0,\n",
              " 0,\n",
              " 0,\n",
              " 1,\n",
              " 0,\n",
              " 0,\n",
              " 0,\n",
              " 0,\n",
              " 0,\n",
              " 0,\n",
              " 0,\n",
              " 0,\n",
              " 0,\n",
              " 0,\n",
              " 0,\n",
              " 0,\n",
              " 0,\n",
              " 0,\n",
              " 0,\n",
              " 1,\n",
              " 1,\n",
              " 0,\n",
              " 0,\n",
              " 0,\n",
              " 0,\n",
              " 0,\n",
              " 0,\n",
              " 0,\n",
              " 1,\n",
              " 0,\n",
              " 0,\n",
              " 0,\n",
              " 0,\n",
              " 0,\n",
              " 0,\n",
              " 0,\n",
              " 0,\n",
              " 0,\n",
              " 0,\n",
              " 0,\n",
              " 1,\n",
              " 1,\n",
              " 0,\n",
              " 1,\n",
              " 0,\n",
              " 0,\n",
              " 0,\n",
              " 0,\n",
              " 0,\n",
              " 0,\n",
              " 0,\n",
              " 0,\n",
              " 0,\n",
              " 1,\n",
              " 0,\n",
              " 0,\n",
              " 1,\n",
              " 1,\n",
              " 0,\n",
              " 0,\n",
              " 0,\n",
              " 1,\n",
              " 1,\n",
              " 1,\n",
              " 0,\n",
              " 0,\n",
              " 0,\n",
              " 0,\n",
              " 0,\n",
              " 0,\n",
              " 0,\n",
              " 0,\n",
              " 0,\n",
              " 0,\n",
              " 0,\n",
              " 0,\n",
              " 0,\n",
              " 1,\n",
              " 0,\n",
              " 0,\n",
              " 0,\n",
              " 0,\n",
              " 1,\n",
              " 0,\n",
              " 0,\n",
              " 0,\n",
              " 1,\n",
              " 1,\n",
              " 0,\n",
              " 0,\n",
              " 1,\n",
              " 1,\n",
              " 0,\n",
              " 0,\n",
              " 1,\n",
              " 0,\n",
              " 1,\n",
              " 1,\n",
              " 1,\n",
              " 0,\n",
              " 1,\n",
              " 0,\n",
              " 0,\n",
              " 0,\n",
              " 0,\n",
              " 1,\n",
              " 0,\n",
              " 0,\n",
              " 0,\n",
              " 0,\n",
              " 0,\n",
              " 0,\n",
              " 0,\n",
              " 0,\n",
              " 0,\n",
              " 1,\n",
              " 0,\n",
              " 1,\n",
              " 1,\n",
              " 0,\n",
              " 0,\n",
              " 0,\n",
              " 0,\n",
              " 0,\n",
              " 0]"
            ]
          },
          "metadata": {
            "tags": []
          },
          "execution_count": 114
        }
      ]
    },
    {
      "metadata": {
        "id": "HAEZl0hBQYvm",
        "colab_type": "code",
        "colab": {
          "base_uri": "https://localhost:8080/",
          "height": 50
        },
        "outputId": "b45dc176-2f27-43b4-cb07-407ab344835a"
      },
      "cell_type": "code",
      "source": [
        "# # # confusion matrix\n",
        "from sklearn.metrics import confusion_matrix\n",
        "cm = confusion_matrix(t, y_val_pred)\n",
        "cm"
      ],
      "execution_count": 0,
      "outputs": [
        {
          "output_type": "execute_result",
          "data": {
            "text/plain": [
              "array([[233,  19],\n",
              "       [ 39,  42]])"
            ]
          },
          "metadata": {
            "tags": []
          },
          "execution_count": 115
        }
      ]
    },
    {
      "metadata": {
        "id": "zl9ofgHOQJ5K",
        "colab_type": "code",
        "colab": {
          "base_uri": "https://localhost:8080/",
          "height": 392
        },
        "outputId": "81b5c792-d39f-4dbf-c809-c35967a0a48c"
      },
      "cell_type": "code",
      "source": [
        "import matplotlib.pyplot as plt\n",
        "\n",
        "\n",
        "plt.figure(figsize=(8,6))\n",
        "plt.imshow(cm, cmap='hot', interpolation='nearest')\n",
        "plt.grid(False)\n",
        "plt.colorbar()\n",
        "plt.xlabel('true label')\n",
        "plt.ylabel('predicted label')\n",
        "plt.show()"
      ],
      "execution_count": 0,
      "outputs": [
        {
          "output_type": "display_data",
          "data": {
            "image/png": "[encoded data removed]",
            "text/plain": [
              "<matplotlib.figure.Figure at 0x7f6247b803d0>"
            ]
          },
          "metadata": {
            "tags": []
          }
        }
      ]
    },
    {
      "metadata": {
        "id": "rcRaBsaIBBg3",
        "colab_type": "code",
        "colab": {
          "base_uri": "https://localhost:8080/",
          "height": 33
        },
        "outputId": "f53e8e3f-a3db-4e44-b388-1ed41c1ba0a6"
      },
      "cell_type": "code",
      "source": [
        "##ROC curve\n",
        "from sklearn.metrics import roc_curve\n",
        "from sklearn.metrics import auc\n",
        "\n",
        "fpr, tpr, threshold = roc_curve(t, y_pred[:,1])\n",
        "roc_auc = auc(fpr, tpr)\n",
        "roc_auc"
      ],
      "execution_count": 0,
      "outputs": [
        {
          "output_type": "execute_result",
          "data": {
            "text/plain": [
              "0.9060356652949245"
            ]
          },
          "metadata": {
            "tags": []
          },
          "execution_count": 117
        }
      ]
    },
    {
      "metadata": {
        "id": "RP9GrjxgQPAL",
        "colab_type": "code",
        "colab": {
          "base_uri": "https://localhost:8080/",
          "height": 376
        },
        "outputId": "a95658c0-6b9f-4086-eed4-da5f3a35e799"
      },
      "cell_type": "code",
      "source": [
        "import matplotlib.pyplot as plt\n",
        "plt.title('Receiver Operating Characteristic')\n",
        "plt.plot(fpr, tpr, 'b', label = 'AUC = %0.3f' % roc_auc)\n",
        "plt.legend(loc = 'lower right')\n",
        "plt.plot([0, 1], [0, 1],'r--')\n",
        "plt.xlim([0, 1])\n",
        "plt.ylim([0, 1])\n",
        "plt.ylabel('True Positive Rate')\n",
        "plt.xlabel('False Positive Rate')\n",
        "plt.show()"
      ],
      "execution_count": 0,
      "outputs": [
        {
          "output_type": "display_data",
          "data": {
            "image/png": "[encoded data removed]",
            "text/plain": [
              "<matplotlib.figure.Figure at 0x7f62512a9310>"
            ]
          },
          "metadata": {
            "tags": []
          }
        }
      ]
    },
    {
      "metadata": {
        "id": "k8Wi3OxV-ZhM",
        "colab_type": "code",
        "colab": {
          "base_uri": "https://localhost:8080/",
          "height": 393
        },
        "outputId": "0ab76fb3-b2c1-442b-d4ea-6ae213a7f9ef"
      },
      "cell_type": "code",
      "source": [
        "print(history.history.keys())\n",
        "\n",
        "plt.plot(history.history['acc'])\n",
        "plt.plot(history.history['val_acc'])\n",
        "plt.title('model accuracy')\n",
        "plt.ylabel('accuracy')\n",
        "plt.xlabel('epoch')\n",
        "plt.legend(['train', 'eval'], loc='upper left')\n",
        "plt.show()"
      ],
      "execution_count": 0,
      "outputs": [
        {
          "output_type": "stream",
          "text": [
            "['acc', 'loss', 'val_acc', 'val_loss']\n"
          ],
          "name": "stdout"
        },
        {
          "output_type": "display_data",
          "data": {
            "image/png": "[encoded data removed]",
            "text/plain": [
              "<matplotlib.figure.Figure at 0x7f6247b80e50>"
            ]
          },
          "metadata": {
            "tags": []
          }
        }
      ]
    }
  ]
}