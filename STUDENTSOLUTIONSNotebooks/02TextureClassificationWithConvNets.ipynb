{
  "nbformat": 4,
  "nbformat_minor": 0,
  "metadata": {
    "colab": {
      "name": "02TextureClassificationWithConvNets.ipynb",
      "version": "0.3.2",
      "provenance": []
    },
    "kernelspec": {
      "display_name": "Python 2",
      "language": "python",
      "name": "python2"
    }
  },
  "cells": [
    {
      "metadata": {
        "id": "9UtcwQnia7rz",
        "colab_type": "text"
      },
      "cell_type": "markdown",
      "source": [
        "# Tissue Classification using Neural Networks\n",
        "In this lab we will explore the use of texture in images and traditional machine learning approaches such as clustering. The dataset we will be using is available here: http://dx.doi.org/10.5281/zenodo.53169. \n",
        "\n",
        "![alt text](https://www.researchgate.net/profile/Jakob_Kather/publication/303998214/figure/fig7/AS:391073710002224@1470250646407/Representative-images-from-our-dataset-Here-the-first-10-images-of-every-tissue-class.png)\n",
        "\n",
        "The above figure shows the 8 different classes of tissue we will be trying to identify. "
      ]
    },
    {
      "metadata": {
        "id": "CdA5mUiAa7sP",
        "colab_type": "code",
        "colab": {}
      },
      "cell_type": "code",
      "source": [
        "# Imports\n",
        "from __future__ import print_function\n",
        "import os\n",
        "import numpy as np\n",
        "import matplotlib.pylab as plt\n",
        "from sklearn.model_selection import train_test_split\n",
        "from tensorflow.keras import Sequential\n",
        "from tensorflow.keras.layers import Dense\n",
        "from tensorflow.keras.optimizers import SGD\n",
        "from tensorflow.keras.utils import to_categorical"
      ],
      "execution_count": 0,
      "outputs": []
    },
    {
      "metadata": {
        "id": "lD5mlv-Ha7s7",
        "colab_type": "text"
      },
      "cell_type": "markdown",
      "source": [
        "## Step 1\n",
        "* Load the data (done for you)\n",
        " * The \"data\" variable stores 5000 images of shape 150x150. This means data has shape (5000, 150, 150). These images are loaded here as grayscale.\n",
        " * The \"labels\" variable stores 5000 labels (0-7). This means \"labels\" has shape (5000,)\n",
        "* Split data into training and testing subsets (left up to you)\n",
        " * Check out the sklearn function train_test_split from sklearn.model_selection"
      ]
    },
    {
      "metadata": {
        "id": "L--6bR2Ta7tD",
        "colab_type": "code",
        "colab": {
          "base_uri": "https://localhost:8080/",
          "height": 34
        },
        "outputId": "e4f7a5ef-33a6-4f56-9e1e-0bfa33e3ba17"
      },
      "cell_type": "code",
      "source": [
        "! git clone https://github.com/BeaverWorksMedlytics/Week3_public.git\n",
        "\n",
        "# Build the path to the data folder. No need to change directories\n",
        "# There are a total of 6 files you will have to load\n",
        "data_dir = os.path.join( os.getcwd(), 'Week3_public', 'data', 'crc')"
      ],
      "execution_count": 3,
      "outputs": [
        {
          "output_type": "stream",
          "text": [
            "fatal: destination path 'Week3_public' already exists and is not an empty directory.\r\n"
          ],
          "name": "stdout"
        }
      ]
    },
    {
      "metadata": {
        "id": "mhT67r_Pa7tX",
        "colab_type": "code",
        "colab": {
          "base_uri": "https://localhost:8080/",
          "height": 208
        },
        "outputId": "e90dd51a-523b-419c-96d1-e4aa7afa75c3"
      },
      "cell_type": "code",
      "source": [
        "# Load data and split into training, testing sets\n",
        "y = np.load(os.path.join(data_dir, 'rgb01.npz'))\n",
        "labels = y['labels'][0:500]\n",
        "data = y['rgb_data']\n",
        "data = data[0:500,:,:,0:3]\n",
        "label_str = y['label_str']\n",
        "label_str = label_str.tolist() # this is to convert label_str back to a dictionary\n",
        "y = []\n",
        "\n",
        "print(data.shape)\n",
        "for ii in range(2,6):\n",
        "    filename = os.path.join(data_dir, 'rgb0' + str(ii) + '.npz')\n",
        "    print('loading ', filename)\n",
        "    y = np.load(filename)\n",
        "    labels = np.append(labels, y['labels'][0:500], axis=0)\n",
        "    data = np.append(data, y['rgb_data'][0:500,:,:,0:3], axis=0)\n",
        "    print(data.shape)\n",
        "    y = []\n",
        "\n",
        "\n",
        "print( data.shape )\n",
        "print( labels.shape )"
      ],
      "execution_count": 73,
      "outputs": [
        {
          "output_type": "stream",
          "text": [
            "(500, 150, 150, 3)\n",
            "loading  /content/Week3_public/data/crc/rgb02.npz\n",
            "(1000, 150, 150, 3)\n",
            "loading  /content/Week3_public/data/crc/rgb03.npz\n",
            "(1500, 150, 150, 3)\n",
            "loading  /content/Week3_public/data/crc/rgb04.npz\n",
            "(2000, 150, 150, 3)\n",
            "loading  /content/Week3_public/data/crc/rgb05.npz\n",
            "(2500, 150, 150, 3)\n",
            "(2500, 150, 150, 3)\n",
            "(2500,)\n"
          ],
          "name": "stdout"
        }
      ]
    },
    {
      "metadata": {
        "id": "22GHK0AJa7uz",
        "colab_type": "code",
        "colab": {
          "base_uri": "https://localhost:8080/",
          "height": 52
        },
        "outputId": "fb418aa3-f492-4d15-94a5-3a1f7f60eaa7"
      },
      "cell_type": "code",
      "source": [
        "num_images, nrows, ncols, ncolors = data.shape\n",
        "\n",
        "# split into training and testing sets\n",
        "data_train, data_test, labels_train, labels_test = train_test_split(data, labels, test_size=0.2, random_state=0)\n",
        "# convert the labels from 1-D arrays to categorical type \n",
        "#labels = to_categorical(labels, num_classes=8)\n",
        "labels_test= to_categorical(labels_test)\n",
        "labels_train = to_categorical(labels_train)\n",
        "\n",
        "print(labels_train.shape)\n",
        "print(labels_test.shape)"
      ],
      "execution_count": 74,
      "outputs": [
        {
          "output_type": "stream",
          "text": [
            "(2000, 8)\n",
            "(500, 8)\n"
          ],
          "name": "stdout"
        }
      ]
    },
    {
      "metadata": {
        "id": "wQVxP22Ia7vb",
        "colab_type": "text"
      },
      "cell_type": "markdown",
      "source": [
        "## Normalize data\n",
        "All images should be normalized to the range 0-1 by dividing by 255.\n",
        "\n",
        "#### Note\n",
        "* Using the La\\*b colorspace : If you convert your images to the La\\*b colorspace, the scaling factor will change. Each channel in this colorspace will have a different range and normalization of each space will involve scaling each channel separately. Additionally, the a\\* channel can have a negative range. This also needs to be taken into account. \n",
        "* Using the HSV/HSI colorspace : Similar considerations apply if you are using the HSV/HSI colorspace. The only difference is that the HSV/HSI colorspace will have all positive values."
      ]
    },
    {
      "metadata": {
        "id": "kJmdrIUsa7vf",
        "colab_type": "code",
        "colab": {
          "base_uri": "https://localhost:8080/",
          "height": 34
        },
        "outputId": "32201cba-4ff8-41bf-8ce9-43d03e5fb7d1"
      },
      "cell_type": "code",
      "source": [
        "# Assuming we are using the RGB colorspace\n",
        "# Normalize all images so that they are 0-1\n",
        "data_train = data_train.astype(float)/255.   #put a period so it knows its an integer\n",
        "print (data.shape)\n"
      ],
      "execution_count": 75,
      "outputs": [
        {
          "output_type": "stream",
          "text": [
            "(2500, 150, 150, 3)\n"
          ],
          "name": "stdout"
        }
      ]
    },
    {
      "metadata": {
        "id": "Fh9sWNR1a7vr",
        "colab_type": "text"
      },
      "cell_type": "markdown",
      "source": [
        "## Step 2\n",
        "At this point, the data has been split into training and testing sets and normalized. We will now design a fully connected neural network for texture classification. \n",
        "\n",
        "<img src=\"https://github.com/hkaur2001/Week3_public/blob/master/Notebooks/images/CNN-example-block-diagram.jpg?raw=1\" width=\"100%\"></img>\n",
        "\n",
        "( Image from http://adventuresinmachinelearning.com/keras-tutorial-cnn-11-lines/ )\n",
        "\n",
        "When designing a fully connected network for classification, we have several decisions to make.\n",
        "\n",
        "**Network Architecuture**\n",
        "* How many layers will our network have ?\n",
        "* How many convolutional filters per layer ?\n",
        "    * What is an appropriate filter size ? \n",
        "* What is an appropriate batch size, learning rate and number of training epochs ?\n",
        "\n",
        "**Data input**\n",
        "* Do we use the raw data ?\n",
        "    * RGB or just gray channel ?\n",
        "* Does the use of different colorspaces lead to better results for a given network architecture ?\n",
        "* Can we use any of the texture features from the previous lab as inputs to this model ?\n",
        "* How does data augmentation affect the results ? \n",
        "\n",
        "Other considerations, we will not be exploring :\n",
        "* What is the trade-off between input data sizes and batch size ?\n",
        "* Is the GPU always the appropriate platform for training ?\n",
        "* How does hardware influence inputs and batch sizes for a given desired accuracy ?"
      ]
    },
    {
      "metadata": {
        "id": "Vh5zjhDLa7vv",
        "colab_type": "code",
        "colab": {}
      },
      "cell_type": "code",
      "source": [
        "# Define the data shapes based on your decision to use rgb or grayscale or other colorpsaces or texture features or \n",
        "# some combination of these inputs\n",
        "num_classes = 8 \n",
        "input_shape = nrows*ncols*ncolors"
      ],
      "execution_count": 0,
      "outputs": []
    },
    {
      "metadata": {
        "id": "hfM2AdQOa7v7",
        "colab_type": "text"
      },
      "cell_type": "markdown",
      "source": [
        "## Step 3\n",
        "Design your network here using Keras"
      ]
    },
    {
      "metadata": {
        "id": "OSmgyVKza7wD",
        "colab_type": "code",
        "colab": {
          "base_uri": "https://localhost:8080/",
          "height": 277
        },
        "outputId": "90847a9e-5740-4772-a716-690f25748158"
      },
      "cell_type": "code",
      "source": [
        "from tensorflow.keras.layers import Conv2D, MaxPooling2D, GlobalMaxPooling2D, Flatten\n",
        "\n",
        "# Create your network\n",
        "model = []\n",
        "model = Sequential()\n",
        "\n",
        "# Add input layer\n",
        "model.add(Conv2D(12, kernel_size=(5,5), input_shape = data_train[0].shape)) #data_train.shape[0:3]\n",
        "\n",
        "\n",
        "model.add(GlobalMaxPooling2D())\n",
        "model.add(Flatten())\n",
        "model.add(Dense(8, activation= 'sigmoid'))\n",
        "\n",
        "\n",
        "#keras.layers.Conv2D(filters, kernel_size, strides=(1, 1), padding='valid', data_format=None, dilation_rate=(1, 1), activation=None, use_bias=True, kernel_initializer='glorot_uniform', bias_initializer='zeros', kernel_regularizer=None, bias_regularizer=None, activity_regularizer=None, kernel_constraint=None, bias_constraint=None)\n",
        "\n",
        "# Add fully connected layers \n",
        "# See keras.io for Conv2D, MaxPool2D, Dropout documentation\n",
        "\n",
        "# Add final output layer - This should have as many neurons as the number\n",
        "# of classes we are trying to identify\n",
        "\n",
        "model.summary()\n"
      ],
      "execution_count": 77,
      "outputs": [
        {
          "output_type": "stream",
          "text": [
            "_________________________________________________________________\n",
            "Layer (type)                 Output Shape              Param #   \n",
            "=================================================================\n",
            "conv2d_16 (Conv2D)           (None, 146, 146, 12)      912       \n",
            "_________________________________________________________________\n",
            "global_max_pooling2d_11 (Glo (None, 12)                0         \n",
            "_________________________________________________________________\n",
            "flatten_6 (Flatten)          (None, 12)                0         \n",
            "_________________________________________________________________\n",
            "dense_8 (Dense)              (None, 8)                 104       \n",
            "=================================================================\n",
            "Total params: 1,016\n",
            "Trainable params: 1,016\n",
            "Non-trainable params: 0\n",
            "_________________________________________________________________\n"
          ],
          "name": "stdout"
        }
      ]
    },
    {
      "metadata": {
        "id": "TZLPl5vCl4nJ",
        "colab_type": "code",
        "colab": {
          "base_uri": "https://localhost:8080/",
          "height": 34
        },
        "outputId": "1f3a9f5d-7b22-4dc9-d6f9-35754742a596"
      },
      "cell_type": "code",
      "source": [
        "print(labels_train.shape)"
      ],
      "execution_count": 78,
      "outputs": [
        {
          "output_type": "stream",
          "text": [
            "(2000, 8)\n"
          ],
          "name": "stdout"
        }
      ]
    },
    {
      "metadata": {
        "id": "tBiuhFyma7wT",
        "colab_type": "text"
      },
      "cell_type": "markdown",
      "source": [
        "## Step 4\n",
        "Compile the model you designed. Compiltation of the Keras model results in the initialization of model weights and sets other model properties."
      ]
    },
    {
      "metadata": {
        "id": "QjlF5iQCa7wX",
        "colab_type": "code",
        "colab": {}
      },
      "cell_type": "code",
      "source": [
        "import tensorflow as tf\n",
        "\n",
        "model.compile(loss = 'categorical_crossentropy', optimizer=tf.train.AdamOptimizer(learning_rate=0.01),metrics=['accuracy'])"
      ],
      "execution_count": 0,
      "outputs": []
    },
    {
      "metadata": {
        "id": "caD_oxhkqyqi",
        "colab_type": "code",
        "colab": {
          "base_uri": "https://localhost:8080/",
          "height": 52
        },
        "outputId": "ff9c720d-912f-4fab-9c95-38bb0f7794ef"
      },
      "cell_type": "code",
      "source": [
        "print(data_train.shape)\n",
        "print(labels_train.shape)"
      ],
      "execution_count": 85,
      "outputs": [
        {
          "output_type": "stream",
          "text": [
            "(2000, 150, 150, 3)\n",
            "(2000, 8)\n"
          ],
          "name": "stdout"
        }
      ]
    },
    {
      "metadata": {
        "id": "X9baBGa8a7wj",
        "colab_type": "text"
      },
      "cell_type": "markdown",
      "source": [
        "## Step 5\n",
        "Train model"
      ]
    },
    {
      "metadata": {
        "id": "dDV_GTyaa7wn",
        "colab_type": "code",
        "colab": {
          "base_uri": "https://localhost:8080/",
          "height": 190
        },
        "outputId": "ace1377e-928e-4ec3-d932-e87c18283c13"
      },
      "cell_type": "code",
      "source": [
        "y = model.fit(data_train, labels_train, epochs=5)"
      ],
      "execution_count": 86,
      "outputs": [
        {
          "output_type": "stream",
          "text": [
            "Epoch 1/5\n",
            "2000/2000 [==============================] - 76s 38ms/step - loss: 1.6930 - acc: 0.3350\n",
            "Epoch 2/5\n",
            "2000/2000 [==============================] - 77s 38ms/step - loss: 1.2604 - acc: 0.5175\n",
            "Epoch 3/5\n",
            "2000/2000 [==============================] - 77s 38ms/step - loss: 1.1187 - acc: 0.5690\n",
            "Epoch 4/5\n",
            "2000/2000 [==============================] - 77s 38ms/step - loss: 1.0256 - acc: 0.6210\n",
            "Epoch 5/5\n",
            "2000/2000 [==============================] - 77s 38ms/step - loss: 0.9600 - acc: 0.6430\n"
          ],
          "name": "stdout"
        }
      ]
    },
    {
      "metadata": {
        "id": "8wfFSGfKa7wv",
        "colab_type": "text"
      },
      "cell_type": "markdown",
      "source": [
        "## Step 6\n",
        "See how your model performs by uisng it for inference.\n",
        "* What is the accuracy of classification ?\n",
        "* Change your model, re-compile and test. Can you improve the accuracy of the model ?\n"
      ]
    },
    {
      "metadata": {
        "id": "1bOrJ6JDa7wz",
        "colab_type": "code",
        "colab": {}
      },
      "cell_type": "code",
      "source": [
        "# predict labels - use the test set for prediction\n",
        "pred_labels = model.predict(data_test)"
      ],
      "execution_count": 0,
      "outputs": []
    },
    {
      "metadata": {
        "id": "ffxpODTJa7w7",
        "colab_type": "code",
        "colab": {
          "base_uri": "https://localhost:8080/",
          "height": 477
        },
        "outputId": "8e036d30-b082-4706-e6ea-c762e738a66d"
      },
      "cell_type": "code",
      "source": [
        "from sklearn.metrics import accuracy_score\n",
        "from sklearn.metrics import confusion_matrix\n",
        "\n",
        "# We need to convert the categorical array test_labels into a vector\n",
        "# in order to use it in the calculation of the confusion matrix\n",
        "mat = confusion_matrix(np.argmax(labels_test, axis=1), pred_labels)\n",
        "acc = accuracy_score(np.argmax(labels_test, axis=1), pred_labels)\n",
        "print(acc)\n",
        "print(mat)"
      ],
      "execution_count": 94,
      "outputs": [
        {
          "output_type": "error",
          "ename": "ValueError",
          "evalue": "ignored",
          "traceback": [
            "\u001b[0;31m\u001b[0m",
            "\u001b[0;31mValueError\u001b[0mTraceback (most recent call last)",
            "\u001b[0;32m<ipython-input-94-2adea093c35f>\u001b[0m in \u001b[0;36m<module>\u001b[0;34m()\u001b[0m\n\u001b[1;32m      4\u001b[0m \u001b[0;31m# We need to convert the categorical array test_labels into a vector\u001b[0m\u001b[0;34m\u001b[0m\u001b[0;34m\u001b[0m\u001b[0m\n\u001b[1;32m      5\u001b[0m \u001b[0;31m# in order to use it in the calculation of the confusion matrix\u001b[0m\u001b[0;34m\u001b[0m\u001b[0;34m\u001b[0m\u001b[0m\n\u001b[0;32m----> 6\u001b[0;31m \u001b[0mmat\u001b[0m \u001b[0;34m=\u001b[0m \u001b[0mconfusion_matrix\u001b[0m\u001b[0;34m(\u001b[0m\u001b[0mnp\u001b[0m\u001b[0;34m.\u001b[0m\u001b[0margmax\u001b[0m\u001b[0;34m(\u001b[0m\u001b[0mlabels_test\u001b[0m\u001b[0;34m,\u001b[0m \u001b[0maxis\u001b[0m\u001b[0;34m=\u001b[0m\u001b[0;36m1\u001b[0m\u001b[0;34m)\u001b[0m\u001b[0;34m,\u001b[0m \u001b[0mpred_labels\u001b[0m\u001b[0;34m)\u001b[0m\u001b[0;34m\u001b[0m\u001b[0m\n\u001b[0m\u001b[1;32m      7\u001b[0m \u001b[0macc\u001b[0m \u001b[0;34m=\u001b[0m \u001b[0maccuracy_score\u001b[0m\u001b[0;34m(\u001b[0m\u001b[0mnp\u001b[0m\u001b[0;34m.\u001b[0m\u001b[0margmax\u001b[0m\u001b[0;34m(\u001b[0m\u001b[0mlabels_test\u001b[0m\u001b[0;34m,\u001b[0m \u001b[0maxis\u001b[0m\u001b[0;34m=\u001b[0m\u001b[0;36m1\u001b[0m\u001b[0;34m)\u001b[0m\u001b[0;34m,\u001b[0m \u001b[0mpred_labels\u001b[0m\u001b[0;34m)\u001b[0m\u001b[0;34m\u001b[0m\u001b[0m\n\u001b[1;32m      8\u001b[0m \u001b[0;32mprint\u001b[0m\u001b[0;34m(\u001b[0m\u001b[0macc\u001b[0m\u001b[0;34m)\u001b[0m\u001b[0;34m\u001b[0m\u001b[0m\n",
            "\u001b[0;32m/usr/local/lib/python2.7/dist-packages/sklearn/metrics/classification.pyc\u001b[0m in \u001b[0;36mconfusion_matrix\u001b[0;34m(y_true, y_pred, labels, sample_weight)\u001b[0m\n\u001b[1;32m    248\u001b[0m \u001b[0;34m\u001b[0m\u001b[0m\n\u001b[1;32m    249\u001b[0m     \"\"\"\n\u001b[0;32m--> 250\u001b[0;31m     \u001b[0my_type\u001b[0m\u001b[0;34m,\u001b[0m \u001b[0my_true\u001b[0m\u001b[0;34m,\u001b[0m \u001b[0my_pred\u001b[0m \u001b[0;34m=\u001b[0m \u001b[0m_check_targets\u001b[0m\u001b[0;34m(\u001b[0m\u001b[0my_true\u001b[0m\u001b[0;34m,\u001b[0m \u001b[0my_pred\u001b[0m\u001b[0;34m)\u001b[0m\u001b[0;34m\u001b[0m\u001b[0m\n\u001b[0m\u001b[1;32m    251\u001b[0m     \u001b[0;32mif\u001b[0m \u001b[0my_type\u001b[0m \u001b[0;32mnot\u001b[0m \u001b[0;32min\u001b[0m \u001b[0;34m(\u001b[0m\u001b[0;34m\"binary\"\u001b[0m\u001b[0;34m,\u001b[0m \u001b[0;34m\"multiclass\"\u001b[0m\u001b[0;34m)\u001b[0m\u001b[0;34m:\u001b[0m\u001b[0;34m\u001b[0m\u001b[0m\n\u001b[1;32m    252\u001b[0m         \u001b[0;32mraise\u001b[0m \u001b[0mValueError\u001b[0m\u001b[0;34m(\u001b[0m\u001b[0;34m\"%s is not supported\"\u001b[0m \u001b[0;34m%\u001b[0m \u001b[0my_type\u001b[0m\u001b[0;34m)\u001b[0m\u001b[0;34m\u001b[0m\u001b[0m\n",
            "\u001b[0;32m/usr/local/lib/python2.7/dist-packages/sklearn/metrics/classification.pyc\u001b[0m in \u001b[0;36m_check_targets\u001b[0;34m(y_true, y_pred)\u001b[0m\n\u001b[1;32m     79\u001b[0m     \u001b[0;32mif\u001b[0m \u001b[0mlen\u001b[0m\u001b[0;34m(\u001b[0m\u001b[0my_type\u001b[0m\u001b[0;34m)\u001b[0m \u001b[0;34m>\u001b[0m \u001b[0;36m1\u001b[0m\u001b[0;34m:\u001b[0m\u001b[0;34m\u001b[0m\u001b[0m\n\u001b[1;32m     80\u001b[0m         raise ValueError(\"Classification metrics can't handle a mix of {0} \"\n\u001b[0;32m---> 81\u001b[0;31m                          \"and {1} targets\".format(type_true, type_pred))\n\u001b[0m\u001b[1;32m     82\u001b[0m \u001b[0;34m\u001b[0m\u001b[0m\n\u001b[1;32m     83\u001b[0m     \u001b[0;31m# We can't have more than one value on y_type => The set is no more needed\u001b[0m\u001b[0;34m\u001b[0m\u001b[0;34m\u001b[0m\u001b[0m\n",
            "\u001b[0;31mValueError\u001b[0m: Classification metrics can't handle a mix of multiclass and continuous-multioutput targets"
          ]
        }
      ]
    },
    {
      "metadata": {
        "id": "CdwmPzQva7xH",
        "colab_type": "code",
        "colab": {}
      },
      "cell_type": "code",
      "source": [
        "plt.figure(figsize=(8,6))\n",
        "plt.imshow(mat, cmap='hot', interpolation='nearest')\n",
        "plt.grid(False)\n",
        "plt.colorbar()\n",
        "plt.xlabel('true label')\n",
        "plt.ylabel('predicted label')\n",
        "plt.show()"
      ],
      "execution_count": 0,
      "outputs": []
    },
    {
      "metadata": {
        "id": "uuKy3R85a7xT",
        "colab_type": "text"
      },
      "cell_type": "markdown",
      "source": [
        "## Assignment\n",
        "* In Step 3 design your own network\n",
        "* Does the model perform better if you use all three RGB channels ?\n",
        "* How does the performance change when using the La*b colorspace ?\n"
      ]
    }
  ]
}